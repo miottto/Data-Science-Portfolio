{
  "nbformat": 4,
  "nbformat_minor": 0,
  "metadata": {
    "colab": {
      "provenance": [],
      "include_colab_link": true
    },
    "kernelspec": {
      "name": "python3",
      "display_name": "Python 3"
    }
  },
  "cells": [
    {
      "cell_type": "markdown",
      "metadata": {
        "id": "view-in-github",
        "colab_type": "text"
      },
      "source": [
        "<a href=\"https://colab.research.google.com/github/miottto/Airbnb-Berlin/blob/main/Data_Exploration_on_Berlin_Airbnb.ipynb\" target=\"_parent\"><img src=\"https://colab.research.google.com/assets/colab-badge.svg\" alt=\"Open In Colab\"/></a>"
      ]
    },
    {
      "cell_type": "markdown",
      "metadata": {
        "id": "kLI0gJtzDGuQ"
      },
      "source": [
        "<img alt=\"Colaboratory logo\" width=\"100%\" src=\"https://github.com/miottto/Data-Science-Portfolio/blob/7e3f4f0f638ec991be4802131cb6cffea6dad8ce/Data%20Exploration%20on%20Berlin%20Airbnb/berlinbanner.png\">\n",
        "\n",
        "# Data Exploration on Berlin Airbnb\n",
        "\n",
        "##**About Berlin**\n",
        "\n",
        "**Berlin** is a popular tourist destination with over **5 million tourist arrivals** in 2021, including **3.85 million international visitors**.  The city has a population of over **3.6 million** and offers **794** travel accommodation establishments (hotels and hostels) for visitors to choose from.\n",
        "Berlin has a rich history and cultural heritage, making it a popular tourist destination. Some of the main tourist attractions include the Berlin Wall Memorial and the Brandenburg Gate."
      ]
    },
    {
      "cell_type": "markdown",
      "source": [
        "## **About Airbnb**\n",
        "\n",
        "The [Airbnb](https://www.airbnb.com/) is an Internet marketplace for short-term rental of houses and apartments. It connects people interested in offering hosting services through their homes or rooms to other people interested in an alternative hosting service. \n"
      ],
      "metadata": {
        "id": "dBonbHFJvl80"
      }
    },
    {
      "cell_type": "markdown",
      "source": [
        "## **Objective**\n",
        "\n",
        "The goal of this study is to explore the raw data  in order to draw a profile of the Airbnb service available in Berlin based on it's main attributes.\n",
        "\n",
        "By the end we expect to get some insights and obtain a better understanding about the relevance of Airbnb for the city of Berlin"
      ],
      "metadata": {
        "id": "T1mGuy06vwZB"
      }
    },
    {
      "cell_type": "markdown",
      "source": [
        "## **The dataset**\n",
        "\n",
        "The Airbnb does not disclose their data publicly. But [Inside Airbnb](http://insideairbnb.com/get-the-data.html),  is a mission driven activist project that provides Airbnb data obtained through [web scraping](https://en.wikipedia.org/wiki/Web_scraping), and advocates for the protection of residential communities.\n",
        "\n",
        "<center><img alt=\"Inside Airbnb\", width=\"20%\", src='https://pbs.twimg.com/profile_images/575532099827986432/uiwyE4c1_400x400.png'></center>\n",
        "\n",
        "\n",
        "\n",
        "<br />"
      ],
      "metadata": {
        "id": "itZpsXGYv9M6"
      }
    },
    {
      "cell_type": "markdown",
      "metadata": {
        "id": "9YjE47Kr_n9e"
      },
      "source": [
        "### **Obtaining Data**\n"
      ]
    },
    {
      "cell_type": "markdown",
      "source": [
        "First, let's import the necessary libraries and import the dataset from Inside Airbnb"
      ],
      "metadata": {
        "id": "khBagg4UVwLe"
      }
    },
    {
      "cell_type": "code",
      "metadata": {
        "id": "Vhp2wMPgJ6zX"
      },
      "source": [
        "# import the necessary packages\n",
        "import warnings\n",
        "warnings.filterwarnings('ignore')\n",
        "\n",
        "import pandas as pd\n",
        "import numpy as np\n",
        "import matplotlib as mpl\n",
        "import matplotlib.pyplot as plt\n",
        "import seaborn as sns\n",
        "\n",
        "#configuring visualization\n",
        "%matplotlib inline"
      ],
      "execution_count": 1,
      "outputs": []
    },
    {
      "cell_type": "code",
      "metadata": {
        "id": "tUmoAT8DLQ5T"
      },
      "source": [
        "# import the listings.csv file into a DataFrame\n",
        "df = pd.read_csv('http://data.insideairbnb.com/germany/be/berlin/2022-12-21/visualisations/listings.csv')\n"
      ],
      "execution_count": 2,
      "outputs": []
    },
    {
      "cell_type": "markdown",
      "metadata": {
        "id": "qb5By2nIMS6m"
      },
      "source": [
        "###**The Dataset Attributes**\n",
        "\n"
      ]
    },
    {
      "cell_type": "markdown",
      "source": [
        "The \"listings.csv\" dataset contains all Berlin's Airbnb listed rooms and they are sorted by a series of attributes. This dictionary indicates what each of them means:"
      ],
      "metadata": {
        "id": "BgTO0KDlWeXu"
      }
    },
    {
      "cell_type": "markdown",
      "metadata": {
        "id": "RYgvuebKNg8-"
      },
      "source": [
        "**Variables Dictionary**\n",
        "\n",
        "* `id` - Airbnb's unique identifier for the listing\n",
        "* `name` - name of the listing\n",
        "* `host_id` - Airbnb's unique identifier for the host/user\n",
        "* `host_name` - name of the host. Usually just the first name(s)\n",
        "* `neighbourhood_group` - the neighbourhood group as geocoded\n",
        "* `neighbourhood` - the neighbourhood as geocoded\n",
        "* `latitude` - the World Geodetic System projection for latitude\n",
        "* `longitude` - the World Geodetic System projection for longitude\n",
        "* `room_type` - entire place, private room or shared room\n",
        "* `price` - daily price in local currency\n",
        "* `minimum_nights` - minimum number of night stay for the listing\n",
        "* `number_of_reviews` - the number of reviews the listing has\n",
        "* `last_review` - the date of the last review\n",
        "* `reviews_per_month` - The number of reviews the listing has over the lifetime of the listing\n",
        "* `number_of_reviews_ltm`- The number of reviews the listing has (in the last 12 months)\n",
        "* `calculated_host_listings_count` - the number of listings the host has\n",
        "* `availabilty_365` - number of days of availability within 365 days\n",
        "* `license` - the license number\n",
        "\n",
        "<br />"
      ]
    },
    {
      "cell_type": "markdown",
      "source": [
        "###**1. Data Analysis**\n",
        "\n",
        "From now on, we are going to evaluate the dataset both **quantitatively** and **qualitatively**. What's the size of it? What types of data we have? Are there any missing values? What about outliers? We will dive into these questions."
      ],
      "metadata": {
        "id": "f6_3ug0CagRe"
      }
    },
    {
      "cell_type": "markdown",
      "source": [
        "Let's start having a glance at the dataset, checking the first **5** entries."
      ],
      "metadata": {
        "id": "I9l2_xHjYl2A"
      }
    },
    {
      "cell_type": "code",
      "metadata": {
        "id": "2iS_dae7YQtO",
        "colab": {
          "base_uri": "https://localhost:8080/",
          "height": 531
        },
        "outputId": "f822d226-5adf-4768-b604-81d17d5bb7eb"
      },
      "source": [
        "# check the first 5 entries of the data frame\n",
        "df.head()"
      ],
      "execution_count": 3,
      "outputs": [
        {
          "output_type": "execute_result",
          "data": {
            "text/plain": [
              "      id                                 name  host_id       host_name  \\\n",
              "0   3176      Fabulous Flat in great Location     3718          Britta   \n",
              "1   9991  Geourgeous flat - outstanding views    33852         Philipp   \n",
              "2  14325  Studio Apartment in Prenzlauer Berg    55531  Chris + Oliver   \n",
              "3  16644   In the Heart of Berlin - Kreuzberg    64696            Rene   \n",
              "4  57049    130 sqm with a view on Mauer Park    54283          Marine   \n",
              "\n",
              "        neighbourhood_group             neighbourhood  latitude  longitude  \\\n",
              "0                    Pankow   Prenzlauer Berg Südwest  52.53471   13.41810   \n",
              "1                    Pankow   Prenzlauer Berg Südwest  52.53269   13.41805   \n",
              "2                    Pankow  Prenzlauer Berg Nordwest  52.54813   13.40366   \n",
              "3  Friedrichshain-Kreuzberg     nördliche Luisenstadt  52.50312   13.43508   \n",
              "4                    Pankow  Prenzlauer Berg Nordwest  52.54758   13.40632   \n",
              "\n",
              "         room_type  price  minimum_nights  number_of_reviews last_review  \\\n",
              "0  Entire home/apt     83              63                147  2021-01-01   \n",
              "1  Entire home/apt    180               6                  8  2020-01-04   \n",
              "2  Entire home/apt     70              93                 26  2021-06-21   \n",
              "3  Entire home/apt     90              93                 48  2017-12-14   \n",
              "4  Entire home/apt    280               3                114  2022-10-23   \n",
              "\n",
              "   reviews_per_month  calculated_host_listings_count  availability_365  \\\n",
              "0               0.89                               1               280   \n",
              "1               0.09                               1                 0   \n",
              "2               0.17                               4               139   \n",
              "3               0.31                               2               143   \n",
              "4               0.78                               3               134   \n",
              "\n",
              "   number_of_reviews_ltm                                            license  \n",
              "0                      0  First name and Last name: Nicolas Krotz  Conta...  \n",
              "1                      0                                  03/Z/RA/003410-18  \n",
              "2                      0                                                NaN  \n",
              "3                      0                                                NaN  \n",
              "4                     15                                  03/Z/RA/003544-18  "
            ],
            "text/html": [
              "\n",
              "  <div id=\"df-20543806-0580-4053-812c-1d1831c21346\">\n",
              "    <div class=\"colab-df-container\">\n",
              "      <div>\n",
              "<style scoped>\n",
              "    .dataframe tbody tr th:only-of-type {\n",
              "        vertical-align: middle;\n",
              "    }\n",
              "\n",
              "    .dataframe tbody tr th {\n",
              "        vertical-align: top;\n",
              "    }\n",
              "\n",
              "    .dataframe thead th {\n",
              "        text-align: right;\n",
              "    }\n",
              "</style>\n",
              "<table border=\"1\" class=\"dataframe\">\n",
              "  <thead>\n",
              "    <tr style=\"text-align: right;\">\n",
              "      <th></th>\n",
              "      <th>id</th>\n",
              "      <th>name</th>\n",
              "      <th>host_id</th>\n",
              "      <th>host_name</th>\n",
              "      <th>neighbourhood_group</th>\n",
              "      <th>neighbourhood</th>\n",
              "      <th>latitude</th>\n",
              "      <th>longitude</th>\n",
              "      <th>room_type</th>\n",
              "      <th>price</th>\n",
              "      <th>minimum_nights</th>\n",
              "      <th>number_of_reviews</th>\n",
              "      <th>last_review</th>\n",
              "      <th>reviews_per_month</th>\n",
              "      <th>calculated_host_listings_count</th>\n",
              "      <th>availability_365</th>\n",
              "      <th>number_of_reviews_ltm</th>\n",
              "      <th>license</th>\n",
              "    </tr>\n",
              "  </thead>\n",
              "  <tbody>\n",
              "    <tr>\n",
              "      <th>0</th>\n",
              "      <td>3176</td>\n",
              "      <td>Fabulous Flat in great Location</td>\n",
              "      <td>3718</td>\n",
              "      <td>Britta</td>\n",
              "      <td>Pankow</td>\n",
              "      <td>Prenzlauer Berg Südwest</td>\n",
              "      <td>52.53471</td>\n",
              "      <td>13.41810</td>\n",
              "      <td>Entire home/apt</td>\n",
              "      <td>83</td>\n",
              "      <td>63</td>\n",
              "      <td>147</td>\n",
              "      <td>2021-01-01</td>\n",
              "      <td>0.89</td>\n",
              "      <td>1</td>\n",
              "      <td>280</td>\n",
              "      <td>0</td>\n",
              "      <td>First name and Last name: Nicolas Krotz  Conta...</td>\n",
              "    </tr>\n",
              "    <tr>\n",
              "      <th>1</th>\n",
              "      <td>9991</td>\n",
              "      <td>Geourgeous flat - outstanding views</td>\n",
              "      <td>33852</td>\n",
              "      <td>Philipp</td>\n",
              "      <td>Pankow</td>\n",
              "      <td>Prenzlauer Berg Südwest</td>\n",
              "      <td>52.53269</td>\n",
              "      <td>13.41805</td>\n",
              "      <td>Entire home/apt</td>\n",
              "      <td>180</td>\n",
              "      <td>6</td>\n",
              "      <td>8</td>\n",
              "      <td>2020-01-04</td>\n",
              "      <td>0.09</td>\n",
              "      <td>1</td>\n",
              "      <td>0</td>\n",
              "      <td>0</td>\n",
              "      <td>03/Z/RA/003410-18</td>\n",
              "    </tr>\n",
              "    <tr>\n",
              "      <th>2</th>\n",
              "      <td>14325</td>\n",
              "      <td>Studio Apartment in Prenzlauer Berg</td>\n",
              "      <td>55531</td>\n",
              "      <td>Chris + Oliver</td>\n",
              "      <td>Pankow</td>\n",
              "      <td>Prenzlauer Berg Nordwest</td>\n",
              "      <td>52.54813</td>\n",
              "      <td>13.40366</td>\n",
              "      <td>Entire home/apt</td>\n",
              "      <td>70</td>\n",
              "      <td>93</td>\n",
              "      <td>26</td>\n",
              "      <td>2021-06-21</td>\n",
              "      <td>0.17</td>\n",
              "      <td>4</td>\n",
              "      <td>139</td>\n",
              "      <td>0</td>\n",
              "      <td>NaN</td>\n",
              "    </tr>\n",
              "    <tr>\n",
              "      <th>3</th>\n",
              "      <td>16644</td>\n",
              "      <td>In the Heart of Berlin - Kreuzberg</td>\n",
              "      <td>64696</td>\n",
              "      <td>Rene</td>\n",
              "      <td>Friedrichshain-Kreuzberg</td>\n",
              "      <td>nördliche Luisenstadt</td>\n",
              "      <td>52.50312</td>\n",
              "      <td>13.43508</td>\n",
              "      <td>Entire home/apt</td>\n",
              "      <td>90</td>\n",
              "      <td>93</td>\n",
              "      <td>48</td>\n",
              "      <td>2017-12-14</td>\n",
              "      <td>0.31</td>\n",
              "      <td>2</td>\n",
              "      <td>143</td>\n",
              "      <td>0</td>\n",
              "      <td>NaN</td>\n",
              "    </tr>\n",
              "    <tr>\n",
              "      <th>4</th>\n",
              "      <td>57049</td>\n",
              "      <td>130 sqm with a view on Mauer Park</td>\n",
              "      <td>54283</td>\n",
              "      <td>Marine</td>\n",
              "      <td>Pankow</td>\n",
              "      <td>Prenzlauer Berg Nordwest</td>\n",
              "      <td>52.54758</td>\n",
              "      <td>13.40632</td>\n",
              "      <td>Entire home/apt</td>\n",
              "      <td>280</td>\n",
              "      <td>3</td>\n",
              "      <td>114</td>\n",
              "      <td>2022-10-23</td>\n",
              "      <td>0.78</td>\n",
              "      <td>3</td>\n",
              "      <td>134</td>\n",
              "      <td>15</td>\n",
              "      <td>03/Z/RA/003544-18</td>\n",
              "    </tr>\n",
              "  </tbody>\n",
              "</table>\n",
              "</div>\n",
              "      <button class=\"colab-df-convert\" onclick=\"convertToInteractive('df-20543806-0580-4053-812c-1d1831c21346')\"\n",
              "              title=\"Convert this dataframe to an interactive table.\"\n",
              "              style=\"display:none;\">\n",
              "        \n",
              "  <svg xmlns=\"http://www.w3.org/2000/svg\" height=\"24px\"viewBox=\"0 0 24 24\"\n",
              "       width=\"24px\">\n",
              "    <path d=\"M0 0h24v24H0V0z\" fill=\"none\"/>\n",
              "    <path d=\"M18.56 5.44l.94 2.06.94-2.06 2.06-.94-2.06-.94-.94-2.06-.94 2.06-2.06.94zm-11 1L8.5 8.5l.94-2.06 2.06-.94-2.06-.94L8.5 2.5l-.94 2.06-2.06.94zm10 10l.94 2.06.94-2.06 2.06-.94-2.06-.94-.94-2.06-.94 2.06-2.06.94z\"/><path d=\"M17.41 7.96l-1.37-1.37c-.4-.4-.92-.59-1.43-.59-.52 0-1.04.2-1.43.59L10.3 9.45l-7.72 7.72c-.78.78-.78 2.05 0 2.83L4 21.41c.39.39.9.59 1.41.59.51 0 1.02-.2 1.41-.59l7.78-7.78 2.81-2.81c.8-.78.8-2.07 0-2.86zM5.41 20L4 18.59l7.72-7.72 1.47 1.35L5.41 20z\"/>\n",
              "  </svg>\n",
              "      </button>\n",
              "      \n",
              "  <style>\n",
              "    .colab-df-container {\n",
              "      display:flex;\n",
              "      flex-wrap:wrap;\n",
              "      gap: 12px;\n",
              "    }\n",
              "\n",
              "    .colab-df-convert {\n",
              "      background-color: #E8F0FE;\n",
              "      border: none;\n",
              "      border-radius: 50%;\n",
              "      cursor: pointer;\n",
              "      display: none;\n",
              "      fill: #1967D2;\n",
              "      height: 32px;\n",
              "      padding: 0 0 0 0;\n",
              "      width: 32px;\n",
              "    }\n",
              "\n",
              "    .colab-df-convert:hover {\n",
              "      background-color: #E2EBFA;\n",
              "      box-shadow: 0px 1px 2px rgba(60, 64, 67, 0.3), 0px 1px 3px 1px rgba(60, 64, 67, 0.15);\n",
              "      fill: #174EA6;\n",
              "    }\n",
              "\n",
              "    [theme=dark] .colab-df-convert {\n",
              "      background-color: #3B4455;\n",
              "      fill: #D2E3FC;\n",
              "    }\n",
              "\n",
              "    [theme=dark] .colab-df-convert:hover {\n",
              "      background-color: #434B5C;\n",
              "      box-shadow: 0px 1px 3px 1px rgba(0, 0, 0, 0.15);\n",
              "      filter: drop-shadow(0px 1px 2px rgba(0, 0, 0, 0.3));\n",
              "      fill: #FFFFFF;\n",
              "    }\n",
              "  </style>\n",
              "\n",
              "      <script>\n",
              "        const buttonEl =\n",
              "          document.querySelector('#df-20543806-0580-4053-812c-1d1831c21346 button.colab-df-convert');\n",
              "        buttonEl.style.display =\n",
              "          google.colab.kernel.accessAllowed ? 'block' : 'none';\n",
              "\n",
              "        async function convertToInteractive(key) {\n",
              "          const element = document.querySelector('#df-20543806-0580-4053-812c-1d1831c21346');\n",
              "          const dataTable =\n",
              "            await google.colab.kernel.invokeFunction('convertToInteractive',\n",
              "                                                     [key], {});\n",
              "          if (!dataTable) return;\n",
              "\n",
              "          const docLinkHtml = 'Like what you see? Visit the ' +\n",
              "            '<a target=\"_blank\" href=https://colab.research.google.com/notebooks/data_table.ipynb>data table notebook</a>'\n",
              "            + ' to learn more about interactive tables.';\n",
              "          element.innerHTML = '';\n",
              "          dataTable['output_type'] = 'display_data';\n",
              "          await google.colab.output.renderOutput(dataTable, element);\n",
              "          const docLink = document.createElement('div');\n",
              "          docLink.innerHTML = docLinkHtml;\n",
              "          element.appendChild(docLink);\n",
              "        }\n",
              "      </script>\n",
              "    </div>\n",
              "  </div>\n",
              "  "
            ]
          },
          "metadata": {},
          "execution_count": 3
        }
      ]
    },
    {
      "cell_type": "markdown",
      "source": [
        "And the last **5** entries"
      ],
      "metadata": {
        "id": "-rtH4z4u2qam"
      }
    },
    {
      "cell_type": "code",
      "source": [
        "# check the last 5 entries of the data frame\n",
        "df.tail()"
      ],
      "metadata": {
        "colab": {
          "base_uri": "https://localhost:8080/",
          "height": 444
        },
        "id": "7ghlWJ-w2zGP",
        "outputId": "0af560b4-fc19-42f7-816a-b1c0ee973cd7"
      },
      "execution_count": 4,
      "outputs": [
        {
          "output_type": "execute_result",
          "data": {
            "text/plain": [
              "                       id                                    name    host_id  \\\n",
              "15712  782613303872754480            Apartment in Prenzlauer Berg  168342678   \n",
              "15713  782624035738508837  High ceiling room in Berlin Schöneberg  480052472   \n",
              "15714  782634843891762466   Luxury room in Berlin Friedrichshain!  480052472   \n",
              "15715  782661043309280379               Bright flat,+ instruments  139683620   \n",
              "15716  782767880255769915           Spacious Studio in Schöneberg  463282497   \n",
              "\n",
              "      host_name       neighbourhood_group             neighbourhood  \\\n",
              "15712   Vanessa                    Pankow       Prenzlauer Berg Süd   \n",
              "15713    Sascha    Tempelhof - Schöneberg                 Friedenau   \n",
              "15714    Sascha  Friedrichshain-Kreuzberg  Frankfurter Allee Süd FK   \n",
              "15715     Nelly        Treptow - Köpenick              Alt  Treptow   \n",
              "15716      Kayo    Tempelhof - Schöneberg            Schöneberg-Süd   \n",
              "\n",
              "        latitude  longitude        room_type  price  minimum_nights  \\\n",
              "15712  52.535704  13.433303  Entire home/apt     45              92   \n",
              "15713  52.478550  13.348510     Private room     31              30   \n",
              "15714  52.509360  13.451140     Private room     31              30   \n",
              "15715  52.490359  13.448729     Private room     52               5   \n",
              "15716  52.488510  13.347550  Entire home/apt     71               2   \n",
              "\n",
              "       number_of_reviews last_review  reviews_per_month  \\\n",
              "15712                  0         NaN                NaN   \n",
              "15713                  0         NaN                NaN   \n",
              "15714                  0         NaN                NaN   \n",
              "15715                  0         NaN                NaN   \n",
              "15716                  0         NaN                NaN   \n",
              "\n",
              "       calculated_host_listings_count  availability_365  \\\n",
              "15712                               1               215   \n",
              "15713                               2               302   \n",
              "15714                               2               364   \n",
              "15715                               1               305   \n",
              "15716                               3                13   \n",
              "\n",
              "       number_of_reviews_ltm  \\\n",
              "15712                      0   \n",
              "15713                      0   \n",
              "15714                      0   \n",
              "15715                      0   \n",
              "15716                      0   \n",
              "\n",
              "                                                 license  \n",
              "15712                                                NaN  \n",
              "15713  Legal entity name and Legal form: Urban HPT Gm...  \n",
              "15714  Legal entity name and Legal form: Urban HPT Gm...  \n",
              "15715  First name and Last name: Nelly Amler  Contact...  \n",
              "15716                                  08/Z/RA/009058-20  "
            ],
            "text/html": [
              "\n",
              "  <div id=\"df-9c1a47cd-9a34-432a-a2d9-e45ff2d0651a\">\n",
              "    <div class=\"colab-df-container\">\n",
              "      <div>\n",
              "<style scoped>\n",
              "    .dataframe tbody tr th:only-of-type {\n",
              "        vertical-align: middle;\n",
              "    }\n",
              "\n",
              "    .dataframe tbody tr th {\n",
              "        vertical-align: top;\n",
              "    }\n",
              "\n",
              "    .dataframe thead th {\n",
              "        text-align: right;\n",
              "    }\n",
              "</style>\n",
              "<table border=\"1\" class=\"dataframe\">\n",
              "  <thead>\n",
              "    <tr style=\"text-align: right;\">\n",
              "      <th></th>\n",
              "      <th>id</th>\n",
              "      <th>name</th>\n",
              "      <th>host_id</th>\n",
              "      <th>host_name</th>\n",
              "      <th>neighbourhood_group</th>\n",
              "      <th>neighbourhood</th>\n",
              "      <th>latitude</th>\n",
              "      <th>longitude</th>\n",
              "      <th>room_type</th>\n",
              "      <th>price</th>\n",
              "      <th>minimum_nights</th>\n",
              "      <th>number_of_reviews</th>\n",
              "      <th>last_review</th>\n",
              "      <th>reviews_per_month</th>\n",
              "      <th>calculated_host_listings_count</th>\n",
              "      <th>availability_365</th>\n",
              "      <th>number_of_reviews_ltm</th>\n",
              "      <th>license</th>\n",
              "    </tr>\n",
              "  </thead>\n",
              "  <tbody>\n",
              "    <tr>\n",
              "      <th>15712</th>\n",
              "      <td>782613303872754480</td>\n",
              "      <td>Apartment in Prenzlauer Berg</td>\n",
              "      <td>168342678</td>\n",
              "      <td>Vanessa</td>\n",
              "      <td>Pankow</td>\n",
              "      <td>Prenzlauer Berg Süd</td>\n",
              "      <td>52.535704</td>\n",
              "      <td>13.433303</td>\n",
              "      <td>Entire home/apt</td>\n",
              "      <td>45</td>\n",
              "      <td>92</td>\n",
              "      <td>0</td>\n",
              "      <td>NaN</td>\n",
              "      <td>NaN</td>\n",
              "      <td>1</td>\n",
              "      <td>215</td>\n",
              "      <td>0</td>\n",
              "      <td>NaN</td>\n",
              "    </tr>\n",
              "    <tr>\n",
              "      <th>15713</th>\n",
              "      <td>782624035738508837</td>\n",
              "      <td>High ceiling room in Berlin Schöneberg</td>\n",
              "      <td>480052472</td>\n",
              "      <td>Sascha</td>\n",
              "      <td>Tempelhof - Schöneberg</td>\n",
              "      <td>Friedenau</td>\n",
              "      <td>52.478550</td>\n",
              "      <td>13.348510</td>\n",
              "      <td>Private room</td>\n",
              "      <td>31</td>\n",
              "      <td>30</td>\n",
              "      <td>0</td>\n",
              "      <td>NaN</td>\n",
              "      <td>NaN</td>\n",
              "      <td>2</td>\n",
              "      <td>302</td>\n",
              "      <td>0</td>\n",
              "      <td>Legal entity name and Legal form: Urban HPT Gm...</td>\n",
              "    </tr>\n",
              "    <tr>\n",
              "      <th>15714</th>\n",
              "      <td>782634843891762466</td>\n",
              "      <td>Luxury room in Berlin Friedrichshain!</td>\n",
              "      <td>480052472</td>\n",
              "      <td>Sascha</td>\n",
              "      <td>Friedrichshain-Kreuzberg</td>\n",
              "      <td>Frankfurter Allee Süd FK</td>\n",
              "      <td>52.509360</td>\n",
              "      <td>13.451140</td>\n",
              "      <td>Private room</td>\n",
              "      <td>31</td>\n",
              "      <td>30</td>\n",
              "      <td>0</td>\n",
              "      <td>NaN</td>\n",
              "      <td>NaN</td>\n",
              "      <td>2</td>\n",
              "      <td>364</td>\n",
              "      <td>0</td>\n",
              "      <td>Legal entity name and Legal form: Urban HPT Gm...</td>\n",
              "    </tr>\n",
              "    <tr>\n",
              "      <th>15715</th>\n",
              "      <td>782661043309280379</td>\n",
              "      <td>Bright flat,+ instruments</td>\n",
              "      <td>139683620</td>\n",
              "      <td>Nelly</td>\n",
              "      <td>Treptow - Köpenick</td>\n",
              "      <td>Alt  Treptow</td>\n",
              "      <td>52.490359</td>\n",
              "      <td>13.448729</td>\n",
              "      <td>Private room</td>\n",
              "      <td>52</td>\n",
              "      <td>5</td>\n",
              "      <td>0</td>\n",
              "      <td>NaN</td>\n",
              "      <td>NaN</td>\n",
              "      <td>1</td>\n",
              "      <td>305</td>\n",
              "      <td>0</td>\n",
              "      <td>First name and Last name: Nelly Amler  Contact...</td>\n",
              "    </tr>\n",
              "    <tr>\n",
              "      <th>15716</th>\n",
              "      <td>782767880255769915</td>\n",
              "      <td>Spacious Studio in Schöneberg</td>\n",
              "      <td>463282497</td>\n",
              "      <td>Kayo</td>\n",
              "      <td>Tempelhof - Schöneberg</td>\n",
              "      <td>Schöneberg-Süd</td>\n",
              "      <td>52.488510</td>\n",
              "      <td>13.347550</td>\n",
              "      <td>Entire home/apt</td>\n",
              "      <td>71</td>\n",
              "      <td>2</td>\n",
              "      <td>0</td>\n",
              "      <td>NaN</td>\n",
              "      <td>NaN</td>\n",
              "      <td>3</td>\n",
              "      <td>13</td>\n",
              "      <td>0</td>\n",
              "      <td>08/Z/RA/009058-20</td>\n",
              "    </tr>\n",
              "  </tbody>\n",
              "</table>\n",
              "</div>\n",
              "      <button class=\"colab-df-convert\" onclick=\"convertToInteractive('df-9c1a47cd-9a34-432a-a2d9-e45ff2d0651a')\"\n",
              "              title=\"Convert this dataframe to an interactive table.\"\n",
              "              style=\"display:none;\">\n",
              "        \n",
              "  <svg xmlns=\"http://www.w3.org/2000/svg\" height=\"24px\"viewBox=\"0 0 24 24\"\n",
              "       width=\"24px\">\n",
              "    <path d=\"M0 0h24v24H0V0z\" fill=\"none\"/>\n",
              "    <path d=\"M18.56 5.44l.94 2.06.94-2.06 2.06-.94-2.06-.94-.94-2.06-.94 2.06-2.06.94zm-11 1L8.5 8.5l.94-2.06 2.06-.94-2.06-.94L8.5 2.5l-.94 2.06-2.06.94zm10 10l.94 2.06.94-2.06 2.06-.94-2.06-.94-.94-2.06-.94 2.06-2.06.94z\"/><path d=\"M17.41 7.96l-1.37-1.37c-.4-.4-.92-.59-1.43-.59-.52 0-1.04.2-1.43.59L10.3 9.45l-7.72 7.72c-.78.78-.78 2.05 0 2.83L4 21.41c.39.39.9.59 1.41.59.51 0 1.02-.2 1.41-.59l7.78-7.78 2.81-2.81c.8-.78.8-2.07 0-2.86zM5.41 20L4 18.59l7.72-7.72 1.47 1.35L5.41 20z\"/>\n",
              "  </svg>\n",
              "      </button>\n",
              "      \n",
              "  <style>\n",
              "    .colab-df-container {\n",
              "      display:flex;\n",
              "      flex-wrap:wrap;\n",
              "      gap: 12px;\n",
              "    }\n",
              "\n",
              "    .colab-df-convert {\n",
              "      background-color: #E8F0FE;\n",
              "      border: none;\n",
              "      border-radius: 50%;\n",
              "      cursor: pointer;\n",
              "      display: none;\n",
              "      fill: #1967D2;\n",
              "      height: 32px;\n",
              "      padding: 0 0 0 0;\n",
              "      width: 32px;\n",
              "    }\n",
              "\n",
              "    .colab-df-convert:hover {\n",
              "      background-color: #E2EBFA;\n",
              "      box-shadow: 0px 1px 2px rgba(60, 64, 67, 0.3), 0px 1px 3px 1px rgba(60, 64, 67, 0.15);\n",
              "      fill: #174EA6;\n",
              "    }\n",
              "\n",
              "    [theme=dark] .colab-df-convert {\n",
              "      background-color: #3B4455;\n",
              "      fill: #D2E3FC;\n",
              "    }\n",
              "\n",
              "    [theme=dark] .colab-df-convert:hover {\n",
              "      background-color: #434B5C;\n",
              "      box-shadow: 0px 1px 3px 1px rgba(0, 0, 0, 0.15);\n",
              "      filter: drop-shadow(0px 1px 2px rgba(0, 0, 0, 0.3));\n",
              "      fill: #FFFFFF;\n",
              "    }\n",
              "  </style>\n",
              "\n",
              "      <script>\n",
              "        const buttonEl =\n",
              "          document.querySelector('#df-9c1a47cd-9a34-432a-a2d9-e45ff2d0651a button.colab-df-convert');\n",
              "        buttonEl.style.display =\n",
              "          google.colab.kernel.accessAllowed ? 'block' : 'none';\n",
              "\n",
              "        async function convertToInteractive(key) {\n",
              "          const element = document.querySelector('#df-9c1a47cd-9a34-432a-a2d9-e45ff2d0651a');\n",
              "          const dataTable =\n",
              "            await google.colab.kernel.invokeFunction('convertToInteractive',\n",
              "                                                     [key], {});\n",
              "          if (!dataTable) return;\n",
              "\n",
              "          const docLinkHtml = 'Like what you see? Visit the ' +\n",
              "            '<a target=\"_blank\" href=https://colab.research.google.com/notebooks/data_table.ipynb>data table notebook</a>'\n",
              "            + ' to learn more about interactive tables.';\n",
              "          element.innerHTML = '';\n",
              "          dataTable['output_type'] = 'display_data';\n",
              "          await google.colab.output.renderOutput(dataTable, element);\n",
              "          const docLink = document.createElement('div');\n",
              "          docLink.innerHTML = docLinkHtml;\n",
              "          element.appendChild(docLink);\n",
              "        }\n",
              "      </script>\n",
              "    </div>\n",
              "  </div>\n",
              "  "
            ]
          },
          "metadata": {},
          "execution_count": 4
        }
      ]
    },
    {
      "cell_type": "markdown",
      "metadata": {
        "id": "6-B_qtEaYEd-"
      },
      "source": [
        "####**1.1- Dataset shape and variable types**\n",
        "\n",
        "How many attributes and entries does our dataset have? What are the types of variables?\n",
        "\n",
        "- Attributes = variables (columns)\n",
        "\n",
        "- Entries = airbnb listings (lines)"
      ]
    },
    {
      "cell_type": "code",
      "metadata": {
        "id": "TFRK0tniLV-G",
        "colab": {
          "base_uri": "https://localhost:8080/"
        },
        "outputId": "7a15fc16-81a6-4f3d-a184-ef8dead10ac2"
      },
      "source": [
        "# identifying the shape of the dataset\n",
        "print(\"Attributes:\\t{}\".format(df.shape[1]))\n",
        "print(\"Entries:\\t{}\".format(df.shape[0]))\n",
        "print('\\n')\n",
        "\n",
        "# show variable types:\n",
        "df.dtypes"
      ],
      "execution_count": 5,
      "outputs": [
        {
          "output_type": "stream",
          "name": "stdout",
          "text": [
            "Attributes:\t18\n",
            "Entries:\t15717\n",
            "\n",
            "\n"
          ]
        },
        {
          "output_type": "execute_result",
          "data": {
            "text/plain": [
              "id                                  int64\n",
              "name                               object\n",
              "host_id                             int64\n",
              "host_name                          object\n",
              "neighbourhood_group                object\n",
              "neighbourhood                      object\n",
              "latitude                          float64\n",
              "longitude                         float64\n",
              "room_type                          object\n",
              "price                               int64\n",
              "minimum_nights                      int64\n",
              "number_of_reviews                   int64\n",
              "last_review                        object\n",
              "reviews_per_month                 float64\n",
              "calculated_host_listings_count      int64\n",
              "availability_365                    int64\n",
              "number_of_reviews_ltm               int64\n",
              "license                            object\n",
              "dtype: object"
            ]
          },
          "metadata": {},
          "execution_count": 5
        }
      ]
    },
    {
      "cell_type": "markdown",
      "source": [
        "We have a dataset with **15717** listings described by **18** unique attributes. The datatypes seem suitable for further analysis. Let's move on."
      ],
      "metadata": {
        "id": "Xn3RuGhOdzFT"
      }
    },
    {
      "cell_type": "markdown",
      "metadata": {
        "id": "yz1urSUGW9iE"
      },
      "source": [
        "### **1.2- Missing Values**\n",
        "\n",
        "Sometimes raw data is accompanied by missing values ​​(Nan or Null) that can impact the analysis. It is necessary to be aware of them.\n",
        "\n",
        "What is the percentage of missing values in the dataset per attribute?"
      ]
    },
    {
      "cell_type": "code",
      "metadata": {
        "id": "plk2FjbCXOqP",
        "colab": {
          "base_uri": "https://localhost:8080/"
        },
        "outputId": "2345a7ba-4243-4aba-d936-f68ae215b0ca"
      },
      "source": [
        "# sort the variables in descending order by their missing values\n",
        "(df.isna().sum() / df.shape[0]*100).sort_values(ascending=False)"
      ],
      "execution_count": 6,
      "outputs": [
        {
          "output_type": "execute_result",
          "data": {
            "text/plain": [
              "license                           59.400649\n",
              "reviews_per_month                 18.845836\n",
              "last_review                       18.845836\n",
              "host_name                          0.127251\n",
              "name                               0.114526\n",
              "minimum_nights                     0.000000\n",
              "number_of_reviews_ltm              0.000000\n",
              "availability_365                   0.000000\n",
              "calculated_host_listings_count     0.000000\n",
              "number_of_reviews                  0.000000\n",
              "id                                 0.000000\n",
              "room_type                          0.000000\n",
              "longitude                          0.000000\n",
              "latitude                           0.000000\n",
              "neighbourhood                      0.000000\n",
              "neighbourhood_group                0.000000\n",
              "host_id                            0.000000\n",
              "price                              0.000000\n",
              "dtype: float64"
            ]
          },
          "metadata": {},
          "execution_count": 6
        }
      ]
    },
    {
      "cell_type": "markdown",
      "source": [
        "The large number of missing values for the **\"license\"** attribute draws attention. According to the law, specific rentals require a license. A percentage of **59.4%** of the listings are missing data about license. How many listings are unlicensed, falsely claiming exemptions, and how many does Airbnb continue to advertise and profit from?\n",
        "\n",
        "In order to protect housing there are some **obligations for hosts** offering non-residential properties and addresses home-sharing in Berlin. The rules are **less restrictive for long-term rentals** (minimum nights > 90 days). In specific cases hosts have to **obtain a permit** from their district office and then enter the registration number in their Airbnb listing.\n",
        "\n",
        "Ok, let's leave this aside for now and continue treating the dataset"
      ],
      "metadata": {
        "id": "0p9bQ83qrmWA"
      }
    },
    {
      "cell_type": "markdown",
      "source": [
        "#### **Removing missing values**\n",
        "\n",
        "Time get rid of the noise by removing missing values and variables variables considered irrelevant for this work."
      ],
      "metadata": {
        "id": "VPE1G7hYPNxn"
      }
    },
    {
      "cell_type": "code",
      "source": [
        "# deleting columns with missing data\n",
        "df.drop(columns=['reviews_per_month', 'last_review', 'license'], inplace=True)\n",
        "\n",
        "# deleting entries with missing data\n",
        "df.dropna(axis=0, inplace=True)\n"
      ],
      "metadata": {
        "id": "B3YG0dfuh1gl"
      },
      "execution_count": 7,
      "outputs": []
    },
    {
      "cell_type": "markdown",
      "source": [
        "####**Checking the results**\n",
        "\n",
        "Once the cleaning is done, it is time to check if it worked well."
      ],
      "metadata": {
        "id": "jLimlVLEqTjR"
      }
    },
    {
      "cell_type": "code",
      "source": [
        "#checking the cleaning results\n",
        "(df.isna().sum()).sort_values(ascending=False)"
      ],
      "metadata": {
        "colab": {
          "base_uri": "https://localhost:8080/"
        },
        "id": "9gKhQVyqqZzg",
        "outputId": "56bd7647-5165-41a1-93e3-33e30f93850c"
      },
      "execution_count": 8,
      "outputs": [
        {
          "output_type": "execute_result",
          "data": {
            "text/plain": [
              "id                                0\n",
              "name                              0\n",
              "host_id                           0\n",
              "host_name                         0\n",
              "neighbourhood_group               0\n",
              "neighbourhood                     0\n",
              "latitude                          0\n",
              "longitude                         0\n",
              "room_type                         0\n",
              "price                             0\n",
              "minimum_nights                    0\n",
              "number_of_reviews                 0\n",
              "calculated_host_listings_count    0\n",
              "availability_365                  0\n",
              "number_of_reviews_ltm             0\n",
              "dtype: int64"
            ]
          },
          "metadata": {},
          "execution_count": 8
        }
      ]
    },
    {
      "cell_type": "markdown",
      "source": [
        "And now we have a dataset without missing values to work with."
      ],
      "metadata": {
        "id": "tdkeFvlbrZdn"
      }
    },
    {
      "cell_type": "markdown",
      "source": [
        "### **2. Variables Distribution Type**\n",
        "\n",
        "What's the variables distribution type? Let's see our numeric data graphically exposed by using **histograms** as a convenient way to introduce data dispersion visualization and get more awareness about the data."
      ],
      "metadata": {
        "id": "vbZrBoeq5P2E"
      }
    },
    {
      "cell_type": "code",
      "metadata": {
        "id": "q2wWSfeRbmBo",
        "colab": {
          "base_uri": "https://localhost:8080/",
          "height": 879
        },
        "outputId": "a991446f-b543-443a-9a21-e45d619ba0c9"
      },
      "source": [
        "# plot the histogram of the numeric variables \n",
        "df.hist(figsize=(20,15), grid=(False), color='orange');"
      ],
      "execution_count": 9,
      "outputs": [
        {
          "output_type": "display_data",
          "data": {
            "text/plain": [
              "<Figure size 1440x1080 with 12 Axes>"
            ],
            "image/png": "[encoded data removed]"
          },
          "metadata": {
            "needs_background": "light"
          }
        }
      ]
    },
    {
      "cell_type": "markdown",
      "source": [
        "The representation above shows some **skewed** histograms.\n",
        "\n",
        "Take the **`price`** histogram for example. It shows a large price range but only one large left aligned bar showing that the vast majority of the datapoints are in that region. The other price regions are extremely underrepresented indicating the presence of outliers.\n",
        "\n",
        "**Outliers** are data points in a dataset that are considered to be extreme, false, or not representative of what the data is describing. These outliers can be caused by either incorrect data collection or genuine outlying observations.\n"
      ],
      "metadata": {
        "id": "42xkuBZ7yawA"
      }
    },
    {
      "cell_type": "markdown",
      "metadata": {
        "id": "iHXvvHIxaoNc"
      },
      "source": [
        "### **3. Outliers** \n",
        "\n",
        "Identify, analyze, removal and results"
      ]
    },
    {
      "cell_type": "markdown",
      "source": [
        "#### **3.1 - Identify** \n",
        "\n",
        "In order to identify outliers we are going to use the Interquartile Range statistical concept. \n",
        "\n",
        "The **Interquartile Range (IQR)** is a measure of variability, based on dividing a dataset into quartiles. The IQR is the range between the first quartile (25th percentile) and the third quartile (75th percentile) of a data set, and it represents the middle 50% of the data points. This metric is useful in identifying outliers and skewness in a dataset.\n",
        "\n",
        "\n",
        "<p align=\"center\"><img src=\"https://miro.medium.com/max/18000/1*2c21SkzJMf3frPXPAR_gZA.png\n",
        "\", width=\"50%\"></p>\n",
        "\n",
        "\n",
        "**Acessing a table that describes the statistical dispersion of our variables in the original dataset:**"
      ],
      "metadata": {
        "id": "l1YsEdFru6KH"
      }
    },
    {
      "cell_type": "code",
      "metadata": {
        "colab": {
          "base_uri": "https://localhost:8080/",
          "height": 300
        },
        "outputId": "f067092c-fc6f-4feb-df53-9e6bd594e6e7",
        "id": "liobbkdC6TKE"
      },
      "source": [
        "# check the statistical dispersion\n",
        "df.describe().round(1)"
      ],
      "execution_count": 10,
      "outputs": [
        {
          "output_type": "execute_result",
          "data": {
            "text/plain": [
              "                 id      host_id  latitude  longitude    price  \\\n",
              "count  1.567900e+04      15679.0   15679.0    15679.0  15679.0   \n",
              "mean   8.917599e+16  111232542.6      52.5       13.4    103.4   \n",
              "std    2.306592e+17  132475966.6       0.0        0.1    947.2   \n",
              "min    3.176000e+03       1581.0      52.4       13.1      0.0   \n",
              "25%    1.386958e+07   12800691.0      52.5       13.4     40.0   \n",
              "50%    2.786424e+07   47884220.0      52.5       13.4     68.0   \n",
              "75%    4.444919e+07  169874842.5      52.5       13.4    106.0   \n",
              "max    7.861719e+17  492038056.0      52.7       13.7  98108.0   \n",
              "\n",
              "       minimum_nights  number_of_reviews  calculated_host_listings_count  \\\n",
              "count         15679.0            15679.0                         15679.0   \n",
              "mean             13.9               29.3                             4.3   \n",
              "std              41.7               66.2                            11.8   \n",
              "min               1.0                0.0                             1.0   \n",
              "25%               2.0                1.0                             1.0   \n",
              "50%               3.0                6.0                             1.0   \n",
              "75%               5.0               24.0                             2.0   \n",
              "max            1124.0             1635.0                           103.0   \n",
              "\n",
              "       availability_365  number_of_reviews_ltm  \n",
              "count           15679.0                15679.0  \n",
              "mean               95.8                    7.3  \n",
              "std               130.7                   18.9  \n",
              "min                 0.0                    0.0  \n",
              "25%                 0.0                    0.0  \n",
              "50%                 4.0                    0.0  \n",
              "75%               184.0                    6.0  \n",
              "max               365.0                  792.0  "
            ],
            "text/html": [
              "\n",
              "  <div id=\"df-afd07c07-648c-4b46-bb22-cd7a1554bc40\">\n",
              "    <div class=\"colab-df-container\">\n",
              "      <div>\n",
              "<style scoped>\n",
              "    .dataframe tbody tr th:only-of-type {\n",
              "        vertical-align: middle;\n",
              "    }\n",
              "\n",
              "    .dataframe tbody tr th {\n",
              "        vertical-align: top;\n",
              "    }\n",
              "\n",
              "    .dataframe thead th {\n",
              "        text-align: right;\n",
              "    }\n",
              "</style>\n",
              "<table border=\"1\" class=\"dataframe\">\n",
              "  <thead>\n",
              "    <tr style=\"text-align: right;\">\n",
              "      <th></th>\n",
              "      <th>id</th>\n",
              "      <th>host_id</th>\n",
              "      <th>latitude</th>\n",
              "      <th>longitude</th>\n",
              "      <th>price</th>\n",
              "      <th>minimum_nights</th>\n",
              "      <th>number_of_reviews</th>\n",
              "      <th>calculated_host_listings_count</th>\n",
              "      <th>availability_365</th>\n",
              "      <th>number_of_reviews_ltm</th>\n",
              "    </tr>\n",
              "  </thead>\n",
              "  <tbody>\n",
              "    <tr>\n",
              "      <th>count</th>\n",
              "      <td>1.567900e+04</td>\n",
              "      <td>15679.0</td>\n",
              "      <td>15679.0</td>\n",
              "      <td>15679.0</td>\n",
              "      <td>15679.0</td>\n",
              "      <td>15679.0</td>\n",
              "      <td>15679.0</td>\n",
              "      <td>15679.0</td>\n",
              "      <td>15679.0</td>\n",
              "      <td>15679.0</td>\n",
              "    </tr>\n",
              "    <tr>\n",
              "      <th>mean</th>\n",
              "      <td>8.917599e+16</td>\n",
              "      <td>111232542.6</td>\n",
              "      <td>52.5</td>\n",
              "      <td>13.4</td>\n",
              "      <td>103.4</td>\n",
              "      <td>13.9</td>\n",
              "      <td>29.3</td>\n",
              "      <td>4.3</td>\n",
              "      <td>95.8</td>\n",
              "      <td>7.3</td>\n",
              "    </tr>\n",
              "    <tr>\n",
              "      <th>std</th>\n",
              "      <td>2.306592e+17</td>\n",
              "      <td>132475966.6</td>\n",
              "      <td>0.0</td>\n",
              "      <td>0.1</td>\n",
              "      <td>947.2</td>\n",
              "      <td>41.7</td>\n",
              "      <td>66.2</td>\n",
              "      <td>11.8</td>\n",
              "      <td>130.7</td>\n",
              "      <td>18.9</td>\n",
              "    </tr>\n",
              "    <tr>\n",
              "      <th>min</th>\n",
              "      <td>3.176000e+03</td>\n",
              "      <td>1581.0</td>\n",
              "      <td>52.4</td>\n",
              "      <td>13.1</td>\n",
              "      <td>0.0</td>\n",
              "      <td>1.0</td>\n",
              "      <td>0.0</td>\n",
              "      <td>1.0</td>\n",
              "      <td>0.0</td>\n",
              "      <td>0.0</td>\n",
              "    </tr>\n",
              "    <tr>\n",
              "      <th>25%</th>\n",
              "      <td>1.386958e+07</td>\n",
              "      <td>12800691.0</td>\n",
              "      <td>52.5</td>\n",
              "      <td>13.4</td>\n",
              "      <td>40.0</td>\n",
              "      <td>2.0</td>\n",
              "      <td>1.0</td>\n",
              "      <td>1.0</td>\n",
              "      <td>0.0</td>\n",
              "      <td>0.0</td>\n",
              "    </tr>\n",
              "    <tr>\n",
              "      <th>50%</th>\n",
              "      <td>2.786424e+07</td>\n",
              "      <td>47884220.0</td>\n",
              "      <td>52.5</td>\n",
              "      <td>13.4</td>\n",
              "      <td>68.0</td>\n",
              "      <td>3.0</td>\n",
              "      <td>6.0</td>\n",
              "      <td>1.0</td>\n",
              "      <td>4.0</td>\n",
              "      <td>0.0</td>\n",
              "    </tr>\n",
              "    <tr>\n",
              "      <th>75%</th>\n",
              "      <td>4.444919e+07</td>\n",
              "      <td>169874842.5</td>\n",
              "      <td>52.5</td>\n",
              "      <td>13.4</td>\n",
              "      <td>106.0</td>\n",
              "      <td>5.0</td>\n",
              "      <td>24.0</td>\n",
              "      <td>2.0</td>\n",
              "      <td>184.0</td>\n",
              "      <td>6.0</td>\n",
              "    </tr>\n",
              "    <tr>\n",
              "      <th>max</th>\n",
              "      <td>7.861719e+17</td>\n",
              "      <td>492038056.0</td>\n",
              "      <td>52.7</td>\n",
              "      <td>13.7</td>\n",
              "      <td>98108.0</td>\n",
              "      <td>1124.0</td>\n",
              "      <td>1635.0</td>\n",
              "      <td>103.0</td>\n",
              "      <td>365.0</td>\n",
              "      <td>792.0</td>\n",
              "    </tr>\n",
              "  </tbody>\n",
              "</table>\n",
              "</div>\n",
              "      <button class=\"colab-df-convert\" onclick=\"convertToInteractive('df-afd07c07-648c-4b46-bb22-cd7a1554bc40')\"\n",
              "              title=\"Convert this dataframe to an interactive table.\"\n",
              "              style=\"display:none;\">\n",
              "        \n",
              "  <svg xmlns=\"http://www.w3.org/2000/svg\" height=\"24px\"viewBox=\"0 0 24 24\"\n",
              "       width=\"24px\">\n",
              "    <path d=\"M0 0h24v24H0V0z\" fill=\"none\"/>\n",
              "    <path d=\"M18.56 5.44l.94 2.06.94-2.06 2.06-.94-2.06-.94-.94-2.06-.94 2.06-2.06.94zm-11 1L8.5 8.5l.94-2.06 2.06-.94-2.06-.94L8.5 2.5l-.94 2.06-2.06.94zm10 10l.94 2.06.94-2.06 2.06-.94-2.06-.94-.94-2.06-.94 2.06-2.06.94z\"/><path d=\"M17.41 7.96l-1.37-1.37c-.4-.4-.92-.59-1.43-.59-.52 0-1.04.2-1.43.59L10.3 9.45l-7.72 7.72c-.78.78-.78 2.05 0 2.83L4 21.41c.39.39.9.59 1.41.59.51 0 1.02-.2 1.41-.59l7.78-7.78 2.81-2.81c.8-.78.8-2.07 0-2.86zM5.41 20L4 18.59l7.72-7.72 1.47 1.35L5.41 20z\"/>\n",
              "  </svg>\n",
              "      </button>\n",
              "      \n",
              "  <style>\n",
              "    .colab-df-container {\n",
              "      display:flex;\n",
              "      flex-wrap:wrap;\n",
              "      gap: 12px;\n",
              "    }\n",
              "\n",
              "    .colab-df-convert {\n",
              "      background-color: #E8F0FE;\n",
              "      border: none;\n",
              "      border-radius: 50%;\n",
              "      cursor: pointer;\n",
              "      display: none;\n",
              "      fill: #1967D2;\n",
              "      height: 32px;\n",
              "      padding: 0 0 0 0;\n",
              "      width: 32px;\n",
              "    }\n",
              "\n",
              "    .colab-df-convert:hover {\n",
              "      background-color: #E2EBFA;\n",
              "      box-shadow: 0px 1px 2px rgba(60, 64, 67, 0.3), 0px 1px 3px 1px rgba(60, 64, 67, 0.15);\n",
              "      fill: #174EA6;\n",
              "    }\n",
              "\n",
              "    [theme=dark] .colab-df-convert {\n",
              "      background-color: #3B4455;\n",
              "      fill: #D2E3FC;\n",
              "    }\n",
              "\n",
              "    [theme=dark] .colab-df-convert:hover {\n",
              "      background-color: #434B5C;\n",
              "      box-shadow: 0px 1px 3px 1px rgba(0, 0, 0, 0.15);\n",
              "      filter: drop-shadow(0px 1px 2px rgba(0, 0, 0, 0.3));\n",
              "      fill: #FFFFFF;\n",
              "    }\n",
              "  </style>\n",
              "\n",
              "      <script>\n",
              "        const buttonEl =\n",
              "          document.querySelector('#df-afd07c07-648c-4b46-bb22-cd7a1554bc40 button.colab-df-convert');\n",
              "        buttonEl.style.display =\n",
              "          google.colab.kernel.accessAllowed ? 'block' : 'none';\n",
              "\n",
              "        async function convertToInteractive(key) {\n",
              "          const element = document.querySelector('#df-afd07c07-648c-4b46-bb22-cd7a1554bc40');\n",
              "          const dataTable =\n",
              "            await google.colab.kernel.invokeFunction('convertToInteractive',\n",
              "                                                     [key], {});\n",
              "          if (!dataTable) return;\n",
              "\n",
              "          const docLinkHtml = 'Like what you see? Visit the ' +\n",
              "            '<a target=\"_blank\" href=https://colab.research.google.com/notebooks/data_table.ipynb>data table notebook</a>'\n",
              "            + ' to learn more about interactive tables.';\n",
              "          element.innerHTML = '';\n",
              "          dataTable['output_type'] = 'display_data';\n",
              "          await google.colab.output.renderOutput(dataTable, element);\n",
              "          const docLink = document.createElement('div');\n",
              "          docLink.innerHTML = docLinkHtml;\n",
              "          element.appendChild(docLink);\n",
              "        }\n",
              "      </script>\n",
              "    </div>\n",
              "  </div>\n",
              "  "
            ]
          },
          "metadata": {},
          "execution_count": 10
        }
      ]
    },
    {
      "cell_type": "markdown",
      "source": [
        "The table above shows the variables with their statistically dispersed data considering the IQR quartiles. We can observe that:\n",
        "\n",
        "* The **`price`** variable has a minimum of 0.\n",
        "* The **`price`** variable has a **Q3** of **106** for a night, but its maximum value is 98108 .\n",
        "* The **`minimum_nights`** variable has a **Q3** of **5 nights**, but its maximum value is 1124 nights.\n",
        "* The **`calculated_host_listings_count`** variable has a **Q3** of **2 listings**, but its maximum value is 103 listings.\n",
        "\n",
        "It's clear that **it has the presence of outliers** and now we are aware of the numbers. \n",
        "\n",
        "The variables `number_of_reviews`,  `availability_365`, `number_of_reviews_ltm` and `calculated_host_listings_count` may also contain outliers, but we are not considering get rid of them by now.\n",
        "\n",
        "The number of reviews and availability topics are not that relevant for this work, while `calculated_host_listings_count` outliers may have considerable importance."
      ],
      "metadata": {
        "id": "wggdZQHJ9eQz"
      }
    },
    {
      "cell_type": "markdown",
      "source": [
        "####**3.2 - Analyze**\n",
        "\n",
        "Now that we have identified the presence of outliers, let's prepare the ground for removing them.\n",
        "\n",
        "**In this analysis we will:**\n",
        "\n",
        "- Work just on `price` and `minimum_nights` variables\n",
        "\n",
        "- Define the outlier limits for the variables using the proposed IQR model.\n",
        "\n",
        "- Use boxplots to help us visualize the quantification and distribution of the outliers.\n"
      ],
      "metadata": {
        "id": "NPtqJ6xdw6V2"
      }
    },
    {
      "cell_type": "markdown",
      "source": [
        "Defining outliers limits for **`price`**"
      ],
      "metadata": {
        "id": "lG8OYXtosOU_"
      }
    },
    {
      "cell_type": "code",
      "source": [
        "#identifying the outliers for the price variable\n",
        "q1_price = df.price.quantile(.25)\n",
        "q3_price = df.price.quantile(.75)\n",
        "IQR_price = q3_price - q1_price\n",
        "print('IQR of the price variable:', IQR_price)\n",
        "\n",
        "#defining the outlier limits\n",
        "upper_price = q3_price + (1.5 * IQR_price)\n",
        "lower_price = q1_price - (1.5 * IQR_price)\n",
        "print('The upper limit is', upper_price)\n",
        "print('The lower limit is', lower_price)\n"
      ],
      "metadata": {
        "colab": {
          "base_uri": "https://localhost:8080/"
        },
        "id": "dxaJARP1sN-O",
        "outputId": "eb021b06-5a08-4458-f033-2aa5dcb95a22"
      },
      "execution_count": 11,
      "outputs": [
        {
          "output_type": "stream",
          "name": "stdout",
          "text": [
            "IQR of the price variable: 66.0\n",
            "The upper limit is 205.0\n",
            "The lower limit is -59.0\n"
          ]
        }
      ]
    },
    {
      "cell_type": "markdown",
      "source": [
        "The \"lower limit\" negative value shows that something is incorrect. Although we have no outliers at this level, we still have **values equal to zero** in this variable that need to be removed."
      ],
      "metadata": {
        "id": "VygBDX5hxA9t"
      }
    },
    {
      "cell_type": "markdown",
      "source": [
        " Boxplot for **`price`** "
      ],
      "metadata": {
        "id": "jmS4UKbyFUib"
      }
    },
    {
      "cell_type": "code",
      "source": [
        "#defining a boxplot for price\n",
        "fig, ax = plt.subplots(figsize=(15,3))\n",
        "df.price.plot(kind='box', vert=False, color='darkorange')\n",
        "ax.set_title('Original Dataset - Price ')\n",
        "plt.show()\n",
        "\n",
        "#exposing quantitative information about outliers\n",
        "print('The dataset contains {} entries'.format(df.shape[0]))\n",
        "print('There are {} entries above 205'.format(len(df[df.price > 205])))\n",
        "print('It represents {:.2f}% of the dataset'.format(len(df[df.price > 205]) / df.shape[0] * 100))"
      ],
      "metadata": {
        "colab": {
          "base_uri": "https://localhost:8080/",
          "height": 281
        },
        "id": "l5l-C6bIAdaV",
        "outputId": "9049d9fe-344d-4232-cd8c-fcee19db1c04"
      },
      "execution_count": 52,
      "outputs": [
        {
          "output_type": "display_data",
          "data": {
            "text/plain": [
              "<Figure size 1080x216 with 1 Axes>"
            ],
            "image/png": "[encoded data removed]"
          },
          "metadata": {}
        },
        {
          "output_type": "stream",
          "name": "stdout",
          "text": [
            "The dataset contains 15679 entries\n",
            "There are 992 entries above 205\n",
            "It represents 6.33% of the dataset\n"
          ]
        }
      ]
    },
    {
      "cell_type": "markdown",
      "source": [
        "Defining outliers for **`minimum_nights`**"
      ],
      "metadata": {
        "id": "ub8WCvg54lEk"
      }
    },
    {
      "cell_type": "code",
      "source": [
        "#identifying the outliers for the minimum_nights variable\n",
        "q1_min = df.minimum_nights.quantile(.25)\n",
        "q3_min = df.minimum_nights.quantile(.75)\n",
        "IQR_min = q3_min - q1_min\n",
        "print('IQR of minimum_nights variable:', IQR_min)\n",
        "\n",
        "#defining the outlier limits\n",
        "upper_min = q3_min + 1.5 * IQR_min\n",
        "lower_min = q1_min - 1.5 * IQR_min\n",
        "print('The upper limit is', upper_min)\n",
        "print('The lower limit is',lower_min)"
      ],
      "metadata": {
        "colab": {
          "base_uri": "https://localhost:8080/"
        },
        "id": "wqjqm_qt5dtW",
        "outputId": "12520c9d-26da-49ec-b556-2be9dabff565"
      },
      "execution_count": 13,
      "outputs": [
        {
          "output_type": "stream",
          "name": "stdout",
          "text": [
            "IQR of minimum_nights variable: 3.0\n",
            "The upper limit is 9.5\n",
            "The lower limit is -2.5\n"
          ]
        }
      ]
    },
    {
      "cell_type": "markdown",
      "source": [
        "In this case the \"lower limit\" negative value just indicates that some listings do not require a minimum night stay and so are represented with the value 0."
      ],
      "metadata": {
        "id": "kZLCoMT865Xy"
      }
    },
    {
      "cell_type": "markdown",
      "source": [
        " Boxplot for **`minimum_nights`**"
      ],
      "metadata": {
        "id": "QBE_8EKUFg-B"
      }
    },
    {
      "cell_type": "code",
      "source": [
        "#defining a boxplot for minimum_nights\n",
        "fig, ax= plt.subplots(figsize=(15,3))\n",
        "df.minimum_nights.plot(kind='box', vert=False, color='darkorange')\n",
        "ax.set_title('Original Dataset - Minimum Nights')\n",
        "plt.show()\n",
        "\n",
        "##exposing quantitative information about outliers \n",
        "print('The dataset contains {} entries'.format(df.shape[0]))\n",
        "print('There are {} entries above 9.5'.format(len(df[df.minimum_nights > 9.5])))\n",
        "print('It represents {:.2f}% of the dataset'.format(len(df[df.minimum_nights > 9]) / df.shape[0] * 100))\n"
      ],
      "metadata": {
        "colab": {
          "base_uri": "https://localhost:8080/",
          "height": 281
        },
        "id": "sucr51qbFqAz",
        "outputId": "e43c6b8e-8373-4a36-f086-2788a0cbd385"
      },
      "execution_count": 51,
      "outputs": [
        {
          "output_type": "display_data",
          "data": {
            "text/plain": [
              "<Figure size 1080x216 with 1 Axes>"
            ],
            "image/png": "[encoded data removed]"
          },
          "metadata": {}
        },
        {
          "output_type": "stream",
          "name": "stdout",
          "text": [
            "The dataset contains 15679 entries\n",
            "There are 2695 entries above 9.5\n",
            "It represents 17.19% of the dataset\n"
          ]
        }
      ]
    },
    {
      "cell_type": "markdown",
      "source": [
        "####**3.3 - Removal**\n",
        "\n",
        "Removing outliers and building a filtered data set"
      ],
      "metadata": {
        "id": "B4nc8Ovqx0Fn"
      }
    },
    {
      "cell_type": "code",
      "source": [
        "#cleaning the dataset\n",
        "df_clean = df.copy()\n",
        "\n",
        "df_clean.drop(df_clean[df_clean.price > 205.0].index, axis=0, inplace=True)\n",
        "df_clean.drop(df_clean[df_clean.price == 0.0].index, axis=0, inplace=True)\n",
        "df_clean.drop(df_clean[df.minimum_nights > 9.5].index, axis=0, inplace=True)\n",
        "\n",
        "#checking the shape after changes\n",
        "print('The original shape is ', df.shape)\n",
        "print('The cleaned shape is ', df_clean.shape)"
      ],
      "metadata": {
        "colab": {
          "base_uri": "https://localhost:8080/"
        },
        "id": "fpSwpiGxzTBN",
        "outputId": "e94b506d-0613-428d-db7f-64fb781d9e3e"
      },
      "execution_count": 15,
      "outputs": [
        {
          "output_type": "stream",
          "name": "stdout",
          "text": [
            "The original shape is  (15679, 15)\n",
            "The cleaned shape is  (12086, 15)\n"
          ]
        }
      ]
    },
    {
      "cell_type": "markdown",
      "source": [
        "A total of **3593** entries were removed. It corresponds to **22,9%** from the original dataset. It's quite high but still an acceptable tradeoff considering the IQR constraints and this project goals. Next, let's look at the **new boxplots** generated from the clean dataset."
      ],
      "metadata": {
        "id": "HAG5piCdWdze"
      }
    },
    {
      "cell_type": "markdown",
      "source": [
        "Boxplot for **`price`**  **(clean)**"
      ],
      "metadata": {
        "id": "cBlfPCpHEfw5"
      }
    },
    {
      "cell_type": "code",
      "source": [
        "#checking the clean set\n",
        "fig, ax = plt.subplots(figsize=(15,3))\n",
        "df_clean.price.plot(kind='box', vert=False, color='darkorange')\n",
        "ax.set_title('Clean Dataset - Price ')\n",
        "plt.show()\n",
        "print('Original size:', df.shape)\n",
        "print('Clean size:', df_clean.shape)"
      ],
      "metadata": {
        "colab": {
          "base_uri": "https://localhost:8080/",
          "height": 264
        },
        "id": "kwk2wgWtFZtC",
        "outputId": "a990535d-9073-47b2-96f3-9899b23cf411"
      },
      "execution_count": 49,
      "outputs": [
        {
          "output_type": "display_data",
          "data": {
            "text/plain": [
              "<Figure size 1080x216 with 1 Axes>"
            ],
            "image/png": "[encoded data removed]"
          },
          "metadata": {}
        },
        {
          "output_type": "stream",
          "name": "stdout",
          "text": [
            "Original size: (15679, 15)\n",
            "Clean size: (12086, 15)\n"
          ]
        }
      ]
    },
    {
      "cell_type": "markdown",
      "source": [
        "Boxplot for **`minimum_nights`** **(clean)**\n",
        "\n"
      ],
      "metadata": {
        "id": "mqviPYPUG9LY"
      }
    },
    {
      "cell_type": "code",
      "source": [
        "#checking the clean set\n",
        "fig, ax = plt.subplots(figsize=(15,3))\n",
        "df_clean.minimum_nights.plot(kind='box', vert=False, color='darkorange')\n",
        "ax.set_title('Clean Dataset - Minimum Nights')\n",
        "plt.show()\n",
        "print('Original dataset size:', df.shape)\n",
        "print('Clean dataset size:', df_clean.shape)"
      ],
      "metadata": {
        "colab": {
          "base_uri": "https://localhost:8080/",
          "height": 264
        },
        "id": "LSm2GZPLHCJX",
        "outputId": "2e93e832-9b75-4253-9679-1e970c788b4e"
      },
      "execution_count": 50,
      "outputs": [
        {
          "output_type": "display_data",
          "data": {
            "text/plain": [
              "<Figure size 1080x216 with 1 Axes>"
            ],
            "image/png": "[encoded data removed]"
          },
          "metadata": {}
        },
        {
          "output_type": "stream",
          "name": "stdout",
          "text": [
            "Original dataset size: (15679, 15)\n",
            "Clean dataset size: (12086, 15)\n"
          ]
        }
      ]
    },
    {
      "cell_type": "markdown",
      "source": [
        "####**3.4 - Cleaning Results**\n",
        "\n",
        "The  new boxplots above show some data as outliers, however, these are being calculated against the clean dataset and took into account the boundaries previously set by the IQR model. \n",
        "\n",
        "To make sure that we are not dealing with outliers that will harm our analysis, let's check the **histograms** again.\n"
      ],
      "metadata": {
        "id": "SXbyp_y-MI2P"
      }
    },
    {
      "cell_type": "code",
      "source": [
        "#check the histograms\n",
        "df_clean[['price', 'minimum_nights']].hist(figsize=(15,4), color='orange');"
      ],
      "metadata": {
        "colab": {
          "base_uri": "https://localhost:8080/",
          "height": 284
        },
        "id": "9LAQOFw3SORl",
        "outputId": "9da06229-a783-428a-c269-20f2edcb7fd7"
      },
      "execution_count": 101,
      "outputs": [
        {
          "output_type": "display_data",
          "data": {
            "text/plain": [
              "<Figure size 1080x288 with 2 Axes>"
            ],
            "image/png": "[encoded data removed]"
          },
          "metadata": {}
        }
      ]
    },
    {
      "cell_type": "markdown",
      "source": [
        "With the sample space reduced by the absence of outliers, the histogram shows better distributed data for our variables of interest. \n",
        "\n",
        "Let's check again the data statistical distribution table:"
      ],
      "metadata": {
        "id": "GSy8OQDyVHy7"
      }
    },
    {
      "cell_type": "code",
      "source": [
        "# verifying the statistical distribuition of clean data\n",
        "df_clean.describe().round(1)"
      ],
      "metadata": {
        "colab": {
          "base_uri": "https://localhost:8080/",
          "height": 300
        },
        "id": "3jZaTceIX4w8",
        "outputId": "0a3e9f30-b263-4492-b164-2ccf78208ef5"
      },
      "execution_count": 19,
      "outputs": [
        {
          "output_type": "execute_result",
          "data": {
            "text/plain": [
              "                 id      host_id  latitude  longitude    price  \\\n",
              "count  1.208600e+04      12086.0   12086.0    12086.0  12086.0   \n",
              "mean   7.515074e+16  109403016.0      52.5       13.4     73.6   \n",
              "std    2.140120e+17  128781361.8       0.0        0.1     43.5   \n",
              "min    9.991000e+03      10966.0      52.4       13.1      9.0   \n",
              "25%    1.346899e+07   14587822.0      52.5       13.4     40.0   \n",
              "50%    2.617518e+07   48559459.5      52.5       13.4     65.0   \n",
              "75%    4.280789e+07  162369975.5      52.5       13.4     98.0   \n",
              "max    7.861719e+17  491924666.0      52.7       13.7    205.0   \n",
              "\n",
              "       minimum_nights  number_of_reviews  calculated_host_listings_count  \\\n",
              "count         12086.0            12086.0                         12086.0   \n",
              "mean              2.8               31.7                             3.1   \n",
              "std               1.8               70.5                             8.2   \n",
              "min               1.0                0.0                             1.0   \n",
              "25%               1.0                1.0                             1.0   \n",
              "50%               2.0                6.0                             1.0   \n",
              "75%               4.0               26.0                             2.0   \n",
              "max               9.0             1635.0                            77.0   \n",
              "\n",
              "       availability_365  number_of_reviews_ltm  \n",
              "count           12086.0                12086.0  \n",
              "mean               77.7                    8.1  \n",
              "std               122.9                   20.6  \n",
              "min                 0.0                    0.0  \n",
              "25%                 0.0                    0.0  \n",
              "50%                 0.0                    0.0  \n",
              "75%               121.0                    8.0  \n",
              "max               365.0                  792.0  "
            ],
            "text/html": [
              "\n",
              "  <div id=\"df-ae9bf5bb-51bb-40d7-bb86-1dac6e275159\">\n",
              "    <div class=\"colab-df-container\">\n",
              "      <div>\n",
              "<style scoped>\n",
              "    .dataframe tbody tr th:only-of-type {\n",
              "        vertical-align: middle;\n",
              "    }\n",
              "\n",
              "    .dataframe tbody tr th {\n",
              "        vertical-align: top;\n",
              "    }\n",
              "\n",
              "    .dataframe thead th {\n",
              "        text-align: right;\n",
              "    }\n",
              "</style>\n",
              "<table border=\"1\" class=\"dataframe\">\n",
              "  <thead>\n",
              "    <tr style=\"text-align: right;\">\n",
              "      <th></th>\n",
              "      <th>id</th>\n",
              "      <th>host_id</th>\n",
              "      <th>latitude</th>\n",
              "      <th>longitude</th>\n",
              "      <th>price</th>\n",
              "      <th>minimum_nights</th>\n",
              "      <th>number_of_reviews</th>\n",
              "      <th>calculated_host_listings_count</th>\n",
              "      <th>availability_365</th>\n",
              "      <th>number_of_reviews_ltm</th>\n",
              "    </tr>\n",
              "  </thead>\n",
              "  <tbody>\n",
              "    <tr>\n",
              "      <th>count</th>\n",
              "      <td>1.208600e+04</td>\n",
              "      <td>12086.0</td>\n",
              "      <td>12086.0</td>\n",
              "      <td>12086.0</td>\n",
              "      <td>12086.0</td>\n",
              "      <td>12086.0</td>\n",
              "      <td>12086.0</td>\n",
              "      <td>12086.0</td>\n",
              "      <td>12086.0</td>\n",
              "      <td>12086.0</td>\n",
              "    </tr>\n",
              "    <tr>\n",
              "      <th>mean</th>\n",
              "      <td>7.515074e+16</td>\n",
              "      <td>109403016.0</td>\n",
              "      <td>52.5</td>\n",
              "      <td>13.4</td>\n",
              "      <td>73.6</td>\n",
              "      <td>2.8</td>\n",
              "      <td>31.7</td>\n",
              "      <td>3.1</td>\n",
              "      <td>77.7</td>\n",
              "      <td>8.1</td>\n",
              "    </tr>\n",
              "    <tr>\n",
              "      <th>std</th>\n",
              "      <td>2.140120e+17</td>\n",
              "      <td>128781361.8</td>\n",
              "      <td>0.0</td>\n",
              "      <td>0.1</td>\n",
              "      <td>43.5</td>\n",
              "      <td>1.8</td>\n",
              "      <td>70.5</td>\n",
              "      <td>8.2</td>\n",
              "      <td>122.9</td>\n",
              "      <td>20.6</td>\n",
              "    </tr>\n",
              "    <tr>\n",
              "      <th>min</th>\n",
              "      <td>9.991000e+03</td>\n",
              "      <td>10966.0</td>\n",
              "      <td>52.4</td>\n",
              "      <td>13.1</td>\n",
              "      <td>9.0</td>\n",
              "      <td>1.0</td>\n",
              "      <td>0.0</td>\n",
              "      <td>1.0</td>\n",
              "      <td>0.0</td>\n",
              "      <td>0.0</td>\n",
              "    </tr>\n",
              "    <tr>\n",
              "      <th>25%</th>\n",
              "      <td>1.346899e+07</td>\n",
              "      <td>14587822.0</td>\n",
              "      <td>52.5</td>\n",
              "      <td>13.4</td>\n",
              "      <td>40.0</td>\n",
              "      <td>1.0</td>\n",
              "      <td>1.0</td>\n",
              "      <td>1.0</td>\n",
              "      <td>0.0</td>\n",
              "      <td>0.0</td>\n",
              "    </tr>\n",
              "    <tr>\n",
              "      <th>50%</th>\n",
              "      <td>2.617518e+07</td>\n",
              "      <td>48559459.5</td>\n",
              "      <td>52.5</td>\n",
              "      <td>13.4</td>\n",
              "      <td>65.0</td>\n",
              "      <td>2.0</td>\n",
              "      <td>6.0</td>\n",
              "      <td>1.0</td>\n",
              "      <td>0.0</td>\n",
              "      <td>0.0</td>\n",
              "    </tr>\n",
              "    <tr>\n",
              "      <th>75%</th>\n",
              "      <td>4.280789e+07</td>\n",
              "      <td>162369975.5</td>\n",
              "      <td>52.5</td>\n",
              "      <td>13.4</td>\n",
              "      <td>98.0</td>\n",
              "      <td>4.0</td>\n",
              "      <td>26.0</td>\n",
              "      <td>2.0</td>\n",
              "      <td>121.0</td>\n",
              "      <td>8.0</td>\n",
              "    </tr>\n",
              "    <tr>\n",
              "      <th>max</th>\n",
              "      <td>7.861719e+17</td>\n",
              "      <td>491924666.0</td>\n",
              "      <td>52.7</td>\n",
              "      <td>13.7</td>\n",
              "      <td>205.0</td>\n",
              "      <td>9.0</td>\n",
              "      <td>1635.0</td>\n",
              "      <td>77.0</td>\n",
              "      <td>365.0</td>\n",
              "      <td>792.0</td>\n",
              "    </tr>\n",
              "  </tbody>\n",
              "</table>\n",
              "</div>\n",
              "      <button class=\"colab-df-convert\" onclick=\"convertToInteractive('df-ae9bf5bb-51bb-40d7-bb86-1dac6e275159')\"\n",
              "              title=\"Convert this dataframe to an interactive table.\"\n",
              "              style=\"display:none;\">\n",
              "        \n",
              "  <svg xmlns=\"http://www.w3.org/2000/svg\" height=\"24px\"viewBox=\"0 0 24 24\"\n",
              "       width=\"24px\">\n",
              "    <path d=\"M0 0h24v24H0V0z\" fill=\"none\"/>\n",
              "    <path d=\"M18.56 5.44l.94 2.06.94-2.06 2.06-.94-2.06-.94-.94-2.06-.94 2.06-2.06.94zm-11 1L8.5 8.5l.94-2.06 2.06-.94-2.06-.94L8.5 2.5l-.94 2.06-2.06.94zm10 10l.94 2.06.94-2.06 2.06-.94-2.06-.94-.94-2.06-.94 2.06-2.06.94z\"/><path d=\"M17.41 7.96l-1.37-1.37c-.4-.4-.92-.59-1.43-.59-.52 0-1.04.2-1.43.59L10.3 9.45l-7.72 7.72c-.78.78-.78 2.05 0 2.83L4 21.41c.39.39.9.59 1.41.59.51 0 1.02-.2 1.41-.59l7.78-7.78 2.81-2.81c.8-.78.8-2.07 0-2.86zM5.41 20L4 18.59l7.72-7.72 1.47 1.35L5.41 20z\"/>\n",
              "  </svg>\n",
              "      </button>\n",
              "      \n",
              "  <style>\n",
              "    .colab-df-container {\n",
              "      display:flex;\n",
              "      flex-wrap:wrap;\n",
              "      gap: 12px;\n",
              "    }\n",
              "\n",
              "    .colab-df-convert {\n",
              "      background-color: #E8F0FE;\n",
              "      border: none;\n",
              "      border-radius: 50%;\n",
              "      cursor: pointer;\n",
              "      display: none;\n",
              "      fill: #1967D2;\n",
              "      height: 32px;\n",
              "      padding: 0 0 0 0;\n",
              "      width: 32px;\n",
              "    }\n",
              "\n",
              "    .colab-df-convert:hover {\n",
              "      background-color: #E2EBFA;\n",
              "      box-shadow: 0px 1px 2px rgba(60, 64, 67, 0.3), 0px 1px 3px 1px rgba(60, 64, 67, 0.15);\n",
              "      fill: #174EA6;\n",
              "    }\n",
              "\n",
              "    [theme=dark] .colab-df-convert {\n",
              "      background-color: #3B4455;\n",
              "      fill: #D2E3FC;\n",
              "    }\n",
              "\n",
              "    [theme=dark] .colab-df-convert:hover {\n",
              "      background-color: #434B5C;\n",
              "      box-shadow: 0px 1px 3px 1px rgba(0, 0, 0, 0.15);\n",
              "      filter: drop-shadow(0px 1px 2px rgba(0, 0, 0, 0.3));\n",
              "      fill: #FFFFFF;\n",
              "    }\n",
              "  </style>\n",
              "\n",
              "      <script>\n",
              "        const buttonEl =\n",
              "          document.querySelector('#df-ae9bf5bb-51bb-40d7-bb86-1dac6e275159 button.colab-df-convert');\n",
              "        buttonEl.style.display =\n",
              "          google.colab.kernel.accessAllowed ? 'block' : 'none';\n",
              "\n",
              "        async function convertToInteractive(key) {\n",
              "          const element = document.querySelector('#df-ae9bf5bb-51bb-40d7-bb86-1dac6e275159');\n",
              "          const dataTable =\n",
              "            await google.colab.kernel.invokeFunction('convertToInteractive',\n",
              "                                                     [key], {});\n",
              "          if (!dataTable) return;\n",
              "\n",
              "          const docLinkHtml = 'Like what you see? Visit the ' +\n",
              "            '<a target=\"_blank\" href=https://colab.research.google.com/notebooks/data_table.ipynb>data table notebook</a>'\n",
              "            + ' to learn more about interactive tables.';\n",
              "          element.innerHTML = '';\n",
              "          dataTable['output_type'] = 'display_data';\n",
              "          await google.colab.output.renderOutput(dataTable, element);\n",
              "          const docLink = document.createElement('div');\n",
              "          docLink.innerHTML = docLinkHtml;\n",
              "          element.appendChild(docLink);\n",
              "        }\n",
              "      </script>\n",
              "    </div>\n",
              "  </div>\n",
              "  "
            ]
          },
          "metadata": {},
          "execution_count": 19
        }
      ]
    },
    {
      "cell_type": "markdown",
      "source": [
        "Now we can get a much better idea of the distribution of our data. Some highlights:\n",
        "\n",
        "-Now we have a **solid dataset**, free of negative interferences considering our analytic purposal.\n",
        "\n",
        "-The **median** of the price variable was very little affected by outlier cleaning, showing once again the robustness of this attribute as a solution to missing data.\n",
        "\n",
        "-The **mean** of the price variable has been drastically reduced, emphasizing the sensitivity of this attribute with respect to outliers."
      ],
      "metadata": {
        "id": "uxLOo6sdZ5eU"
      }
    },
    {
      "cell_type": "markdown",
      "metadata": {
        "id": "IXn2oIo5qx-w"
      },
      "source": [
        "###**4. Insights - Airbnb Berlin**"
      ]
    },
    {
      "cell_type": "markdown",
      "source": [
        "####**4.1- Variable Correlation**\n",
        "\n",
        "One way to investigate the correlation between attributes is to construct a **correlation matrix**\n",
        "\n",
        " The correlation matrix is based on the **Pearson correlation** coefficient. It takes 1.0 as a value of perfect positive correlation and -1.0 as a perfect negative correlation."
      ],
      "metadata": {
        "id": "ea6ADM2DaPZP"
      }
    },
    {
      "cell_type": "markdown",
      "source": [
        "Correlation **matrix**:"
      ],
      "metadata": {
        "id": "DgfSd42CZgz9"
      }
    },
    {
      "cell_type": "code",
      "metadata": {
        "id": "x2ayzBajqxyd",
        "colab": {
          "base_uri": "https://localhost:8080/",
          "height": 175
        },
        "outputId": "269c103f-6a83-4c5d-9ded-400453a9a1dd"
      },
      "source": [
        "# create a correlation matrix\n",
        "corr = df_clean[['price', 'minimum_nights','calculated_host_listings_count', 'availability_365']].corr()\n",
        "\n",
        "# show the correlation matrix\n",
        "display(corr)"
      ],
      "execution_count": 20,
      "outputs": [
        {
          "output_type": "display_data",
          "data": {
            "text/plain": [
              "                                   price  minimum_nights  \\\n",
              "price                           1.000000        0.028867   \n",
              "minimum_nights                  0.028867        1.000000   \n",
              "calculated_host_listings_count  0.197150       -0.154457   \n",
              "availability_365                0.373463       -0.170062   \n",
              "\n",
              "                                calculated_host_listings_count  \\\n",
              "price                                                 0.197150   \n",
              "minimum_nights                                       -0.154457   \n",
              "calculated_host_listings_count                        1.000000   \n",
              "availability_365                                      0.368574   \n",
              "\n",
              "                                availability_365  \n",
              "price                                   0.373463  \n",
              "minimum_nights                         -0.170062  \n",
              "calculated_host_listings_count          0.368574  \n",
              "availability_365                        1.000000  "
            ],
            "text/html": [
              "\n",
              "  <div id=\"df-dcbd7f9a-fd4e-444c-9976-9e0c7bb044a4\">\n",
              "    <div class=\"colab-df-container\">\n",
              "      <div>\n",
              "<style scoped>\n",
              "    .dataframe tbody tr th:only-of-type {\n",
              "        vertical-align: middle;\n",
              "    }\n",
              "\n",
              "    .dataframe tbody tr th {\n",
              "        vertical-align: top;\n",
              "    }\n",
              "\n",
              "    .dataframe thead th {\n",
              "        text-align: right;\n",
              "    }\n",
              "</style>\n",
              "<table border=\"1\" class=\"dataframe\">\n",
              "  <thead>\n",
              "    <tr style=\"text-align: right;\">\n",
              "      <th></th>\n",
              "      <th>price</th>\n",
              "      <th>minimum_nights</th>\n",
              "      <th>calculated_host_listings_count</th>\n",
              "      <th>availability_365</th>\n",
              "    </tr>\n",
              "  </thead>\n",
              "  <tbody>\n",
              "    <tr>\n",
              "      <th>price</th>\n",
              "      <td>1.000000</td>\n",
              "      <td>0.028867</td>\n",
              "      <td>0.197150</td>\n",
              "      <td>0.373463</td>\n",
              "    </tr>\n",
              "    <tr>\n",
              "      <th>minimum_nights</th>\n",
              "      <td>0.028867</td>\n",
              "      <td>1.000000</td>\n",
              "      <td>-0.154457</td>\n",
              "      <td>-0.170062</td>\n",
              "    </tr>\n",
              "    <tr>\n",
              "      <th>calculated_host_listings_count</th>\n",
              "      <td>0.197150</td>\n",
              "      <td>-0.154457</td>\n",
              "      <td>1.000000</td>\n",
              "      <td>0.368574</td>\n",
              "    </tr>\n",
              "    <tr>\n",
              "      <th>availability_365</th>\n",
              "      <td>0.373463</td>\n",
              "      <td>-0.170062</td>\n",
              "      <td>0.368574</td>\n",
              "      <td>1.000000</td>\n",
              "    </tr>\n",
              "  </tbody>\n",
              "</table>\n",
              "</div>\n",
              "      <button class=\"colab-df-convert\" onclick=\"convertToInteractive('df-dcbd7f9a-fd4e-444c-9976-9e0c7bb044a4')\"\n",
              "              title=\"Convert this dataframe to an interactive table.\"\n",
              "              style=\"display:none;\">\n",
              "        \n",
              "  <svg xmlns=\"http://www.w3.org/2000/svg\" height=\"24px\"viewBox=\"0 0 24 24\"\n",
              "       width=\"24px\">\n",
              "    <path d=\"M0 0h24v24H0V0z\" fill=\"none\"/>\n",
              "    <path d=\"M18.56 5.44l.94 2.06.94-2.06 2.06-.94-2.06-.94-.94-2.06-.94 2.06-2.06.94zm-11 1L8.5 8.5l.94-2.06 2.06-.94-2.06-.94L8.5 2.5l-.94 2.06-2.06.94zm10 10l.94 2.06.94-2.06 2.06-.94-2.06-.94-.94-2.06-.94 2.06-2.06.94z\"/><path d=\"M17.41 7.96l-1.37-1.37c-.4-.4-.92-.59-1.43-.59-.52 0-1.04.2-1.43.59L10.3 9.45l-7.72 7.72c-.78.78-.78 2.05 0 2.83L4 21.41c.39.39.9.59 1.41.59.51 0 1.02-.2 1.41-.59l7.78-7.78 2.81-2.81c.8-.78.8-2.07 0-2.86zM5.41 20L4 18.59l7.72-7.72 1.47 1.35L5.41 20z\"/>\n",
              "  </svg>\n",
              "      </button>\n",
              "      \n",
              "  <style>\n",
              "    .colab-df-container {\n",
              "      display:flex;\n",
              "      flex-wrap:wrap;\n",
              "      gap: 12px;\n",
              "    }\n",
              "\n",
              "    .colab-df-convert {\n",
              "      background-color: #E8F0FE;\n",
              "      border: none;\n",
              "      border-radius: 50%;\n",
              "      cursor: pointer;\n",
              "      display: none;\n",
              "      fill: #1967D2;\n",
              "      height: 32px;\n",
              "      padding: 0 0 0 0;\n",
              "      width: 32px;\n",
              "    }\n",
              "\n",
              "    .colab-df-convert:hover {\n",
              "      background-color: #E2EBFA;\n",
              "      box-shadow: 0px 1px 2px rgba(60, 64, 67, 0.3), 0px 1px 3px 1px rgba(60, 64, 67, 0.15);\n",
              "      fill: #174EA6;\n",
              "    }\n",
              "\n",
              "    [theme=dark] .colab-df-convert {\n",
              "      background-color: #3B4455;\n",
              "      fill: #D2E3FC;\n",
              "    }\n",
              "\n",
              "    [theme=dark] .colab-df-convert:hover {\n",
              "      background-color: #434B5C;\n",
              "      box-shadow: 0px 1px 3px 1px rgba(0, 0, 0, 0.15);\n",
              "      filter: drop-shadow(0px 1px 2px rgba(0, 0, 0, 0.3));\n",
              "      fill: #FFFFFF;\n",
              "    }\n",
              "  </style>\n",
              "\n",
              "      <script>\n",
              "        const buttonEl =\n",
              "          document.querySelector('#df-dcbd7f9a-fd4e-444c-9976-9e0c7bb044a4 button.colab-df-convert');\n",
              "        buttonEl.style.display =\n",
              "          google.colab.kernel.accessAllowed ? 'block' : 'none';\n",
              "\n",
              "        async function convertToInteractive(key) {\n",
              "          const element = document.querySelector('#df-dcbd7f9a-fd4e-444c-9976-9e0c7bb044a4');\n",
              "          const dataTable =\n",
              "            await google.colab.kernel.invokeFunction('convertToInteractive',\n",
              "                                                     [key], {});\n",
              "          if (!dataTable) return;\n",
              "\n",
              "          const docLinkHtml = 'Like what you see? Visit the ' +\n",
              "            '<a target=\"_blank\" href=https://colab.research.google.com/notebooks/data_table.ipynb>data table notebook</a>'\n",
              "            + ' to learn more about interactive tables.';\n",
              "          element.innerHTML = '';\n",
              "          dataTable['output_type'] = 'display_data';\n",
              "          await google.colab.output.renderOutput(dataTable, element);\n",
              "          const docLink = document.createElement('div');\n",
              "          docLink.innerHTML = docLinkHtml;\n",
              "          element.appendChild(docLink);\n",
              "        }\n",
              "      </script>\n",
              "    </div>\n",
              "  </div>\n",
              "  "
            ]
          },
          "metadata": {}
        }
      ]
    },
    {
      "cell_type": "markdown",
      "source": [
        "Correlation **heatmap**:"
      ],
      "metadata": {
        "id": "QDphGIxdXKKD"
      }
    },
    {
      "cell_type": "code",
      "metadata": {
        "id": "91UujDr6ueqE",
        "colab": {
          "base_uri": "https://localhost:8080/",
          "height": 540
        },
        "outputId": "034778e1-9977-4a6f-82b0-1a697c86132a"
      },
      "source": [
        "# hide duplicated correlations\n",
        "mask = np.triu(np.ones_like(corr, dtype=bool))\n",
        "\n",
        "# display the heatmap from correlations\n",
        "plt.figure(figsize=(6, 6), facecolor='w', edgecolor='k')\n",
        "sns.set(font_scale=1.2)\n",
        "sns.heatmap(corr, cmap='coolwarm', square=True, annot=True, fmt='.1g',mask=mask);\n"
      ],
      "execution_count": 63,
      "outputs": [
        {
          "output_type": "display_data",
          "data": {
            "text/plain": [
              "<Figure size 432x432 with 2 Axes>"
            ],
            "image/png": "[encoded data removed]"
          },
          "metadata": {}
        }
      ]
    },
    {
      "cell_type": "markdown",
      "source": [
        " As seen, the variables analyzed have **low correlation**. Despite variables `price` and `calculated_host_listings_count` presents a positive correlation with `availability_365`, the value of **0.4** is still low.\n"
      ],
      "metadata": {
        "id": "QvEkgXfEs-gp"
      }
    },
    {
      "cell_type": "markdown",
      "metadata": {
        "id": "7b6RMWpuHKN-"
      },
      "source": [
        "####**4.2 -Room Type**\n",
        "\n",
        "What is the most listed room type in Berlin?"
      ]
    },
    {
      "cell_type": "code",
      "metadata": {
        "id": "ueLPNWvPHgfB",
        "colab": {
          "base_uri": "https://localhost:8080/"
        },
        "outputId": "9b655f09-188f-45c9-91ae-1e9302589681"
      },
      "source": [
        "# show the quantity of each type of property available\n",
        "print(df_clean.room_type.value_counts())"
      ],
      "execution_count": 22,
      "outputs": [
        {
          "output_type": "stream",
          "name": "stdout",
          "text": [
            "Entire home/apt    6604\n",
            "Private room       5201\n",
            "Shared room         173\n",
            "Hotel room          108\n",
            "Name: room_type, dtype: int64\n"
          ]
        }
      ]
    },
    {
      "cell_type": "code",
      "metadata": {
        "id": "EvwoO-XAHhIm",
        "colab": {
          "base_uri": "https://localhost:8080/"
        },
        "outputId": "cc04ff9b-484d-43f8-ca1e-c511ce094a7f"
      },
      "source": [
        "# show the percentage of each type of property available\n",
        "df_clean.room_type.value_counts() / df_clean.shape[0] * 100"
      ],
      "execution_count": 23,
      "outputs": [
        {
          "output_type": "execute_result",
          "data": {
            "text/plain": [
              "Entire home/apt    54.641734\n",
              "Private room       43.033262\n",
              "Shared room         1.431408\n",
              "Hotel room          0.893596\n",
              "Name: room_type, dtype: float64"
            ]
          },
          "metadata": {},
          "execution_count": 23
        }
      ]
    },
    {
      "cell_type": "markdown",
      "source": [
        "The most listed room type in Berlin is \"Entire home/apt\" followed by \"Private Room\", as seen in the chart below:\n"
      ],
      "metadata": {
        "id": "LvLuaRps0Z4N"
      }
    },
    {
      "cell_type": "code",
      "source": [
        "#set up the gradient\n",
        "gradient = np.linspace(0, 1, 1000)\n",
        "gradient = np.vstack((gradient, gradient))\n",
        "#establish the plot area\n",
        "fig, ax = plt.subplots(figsize=(10,5))\n",
        "#mapping the chart background color\n",
        "ax.imshow(gradient, aspect='auto', cmap=mpl.cm.Greys, extent=(0, 1, 0, 1), alpha=0.2, transform=ax.transAxes)\n",
        "\n",
        "#set up the chart\n",
        "df_clean.room_type.value_counts().sort_values(ascending=True).plot(kind='barh', color='orange')\n",
        "ax.set_title('Most listed room types')\n",
        "\n",
        "plt.show()\n"
      ],
      "metadata": {
        "colab": {
          "base_uri": "https://localhost:8080/",
          "height": 342
        },
        "id": "Et0UTvLaeW4E",
        "outputId": "9c51b2c7-07bb-4b6f-ad78-8d9cbf00d85a"
      },
      "execution_count": 79,
      "outputs": [
        {
          "output_type": "display_data",
          "data": {
            "text/plain": [
              "<Figure size 720x360 with 1 Axes>"
            ],
            "image/png": "[encoded data removed]"
          },
          "metadata": {}
        }
      ]
    },
    {
      "cell_type": "markdown",
      "metadata": {
        "id": "7x4aw1j5wNmn"
      },
      "source": [
        "####**4.2 - Average Rental Price**\n",
        "\n",
        "What is the average rental price for a night in Berlin?"
      ]
    },
    {
      "cell_type": "code",
      "metadata": {
        "id": "ff-8gUahLk-C",
        "colab": {
          "base_uri": "https://localhost:8080/"
        },
        "outputId": "d767499d-6ad7-472b-987d-bbe690cf6189"
      },
      "source": [
        "# check the average value for 'price'\n",
        "avg = df_clean.price.mean().round()\n",
        "print(avg)"
      ],
      "execution_count": 25,
      "outputs": [
        {
          "output_type": "stream",
          "name": "stdout",
          "text": [
            "74.0\n"
          ]
        }
      ]
    },
    {
      "cell_type": "markdown",
      "source": [
        "The **average rental price** for a night in Berlin is **€74**."
      ],
      "metadata": {
        "id": "CFFMPQ112fzG"
      }
    },
    {
      "cell_type": "markdown",
      "source": [
        "####**4.3- Top Host**\n",
        "\n",
        "Which host has the highest number of listings on the platform?"
      ],
      "metadata": {
        "id": "VHOYq9kwlXaD"
      }
    },
    {
      "cell_type": "code",
      "source": [
        "# verify the top ten hosts by id\n",
        "df_clean['host_id'].value_counts().sort_values(ascending=False)[:10]"
      ],
      "metadata": {
        "colab": {
          "base_uri": "https://localhost:8080/"
        },
        "id": "aE1eoE0BU2i7",
        "outputId": "26f220a7-0e43-4d93-f212-55870cf81d3d"
      },
      "execution_count": 26,
      "outputs": [
        {
          "output_type": "execute_result",
          "data": {
            "text/plain": [
              "418270816    77\n",
              "8250486      49\n",
              "378071271    37\n",
              "454962512    32\n",
              "177712632    26\n",
              "304345361    19\n",
              "372068633    17\n",
              "240204649    16\n",
              "372194954    16\n",
              "190957759    14\n",
              "Name: host_id, dtype: int64"
            ]
          },
          "metadata": {},
          "execution_count": 26
        }
      ]
    },
    {
      "cell_type": "markdown",
      "source": [
        "The **top host** is registered as **418270816** (id number), accumulating a total of **77 listings**.\n",
        "\n",
        "*Obs: Different users can be registered with the same `host_name` and lead to incorrect interpretations. This is why we are searching using the `host_id` variable.*\n",
        "\n",
        "Let's discover more from our top host:"
      ],
      "metadata": {
        "id": "XgxwtKNMaXF4"
      }
    },
    {
      "cell_type": "code",
      "source": [
        "# checking the top host's listings in the dataset\n",
        "df_clean.loc[df['host_id'] == 418270816]"
      ],
      "metadata": {
        "colab": {
          "base_uri": "https://localhost:8080/",
          "height": 904
        },
        "id": "eBq8urE5f1Si",
        "outputId": "029ba9a7-506b-4565-baf1-40a55f0846a6"
      },
      "execution_count": 27,
      "outputs": [
        {
          "output_type": "execute_result",
          "data": {
            "text/plain": [
              "                       id                                               name  \\\n",
              "14662  685218557991874792             Berlin Chausseestr | One-Bedroom Suite   \n",
              "14665  685220462559922676    Berlin Chausseestr | Suite + Sofa Bed + Balcony   \n",
              "14668  685222233587748409          Berlin Chausseestr | Suite + Balcony (LT)   \n",
              "14670  685224054858608898              Berlin Chausseestr | Suite + Sofa Bed   \n",
              "14672  685225880830164394             Berlin Chausseestr | Two-Bedroom Suite   \n",
              "...                   ...                                                ...   \n",
              "15250  731812301050933853  limehome Berlin Luise-Henriette-Str. | Suite (LT)   \n",
              "15251  731814415936337787  limehome Berlin Luise-Henriette-Str. | 1-BR Suite   \n",
              "15253  731816714179145445             limehome Berlin | Economy Single Suite   \n",
              "15254  731822500093753325  limehome Berlin Luise-Henriette-Str|ComfortSui...   \n",
              "15258  731825380030233334       limehome Berlin Luise-Henriette-Str. | Suite   \n",
              "\n",
              "         host_id host_name     neighbourhood_group   neighbourhood   latitude  \\\n",
              "14662  418270816  Limehome                   Mitte  Alexanderplatz  52.537746   \n",
              "14665  418270816  Limehome                   Mitte  Alexanderplatz  52.537746   \n",
              "14668  418270816  Limehome                   Mitte  Alexanderplatz  52.537746   \n",
              "14670  418270816  Limehome                   Mitte  Alexanderplatz  52.537746   \n",
              "14672  418270816  Limehome                   Mitte  Alexanderplatz  52.537746   \n",
              "...          ...       ...                     ...             ...        ...   \n",
              "15250  418270816  Limehome  Tempelhof - Schöneberg       Tempelhof  52.464195   \n",
              "15251  418270816  Limehome  Tempelhof - Schöneberg       Tempelhof  52.464195   \n",
              "15253  418270816  Limehome  Tempelhof - Schöneberg       Tempelhof  52.464195   \n",
              "15254  418270816  Limehome  Tempelhof - Schöneberg       Tempelhof  52.464195   \n",
              "15258  418270816  Limehome  Tempelhof - Schöneberg       Tempelhof  52.464195   \n",
              "\n",
              "       longitude        room_type  price  minimum_nights  number_of_reviews  \\\n",
              "14662  13.373278  Entire home/apt    159               1                  0   \n",
              "14665  13.373278  Entire home/apt    137               1                  1   \n",
              "14668  13.373278  Entire home/apt    137               1                  0   \n",
              "14670  13.373278  Entire home/apt    129               1                  2   \n",
              "14672  13.373278  Entire home/apt    173               1                  0   \n",
              "...          ...              ...    ...             ...                ...   \n",
              "15250  13.384416  Entire home/apt     76               1                  0   \n",
              "15251  13.384416  Entire home/apt    102               1                  1   \n",
              "15253  13.384416  Entire home/apt     62               1                  2   \n",
              "15254  13.384416  Entire home/apt     85               1                  0   \n",
              "15258  13.384416  Entire home/apt     76               1                 11   \n",
              "\n",
              "       calculated_host_listings_count  availability_365  number_of_reviews_ltm  \n",
              "14662                              77               316                      0  \n",
              "14665                              77               363                      1  \n",
              "14668                              77               363                      0  \n",
              "14670                              77               360                      2  \n",
              "14672                              77               216                      0  \n",
              "...                               ...               ...                    ...  \n",
              "15250                              77               363                      0  \n",
              "15251                              77               327                      1  \n",
              "15253                              77               352                      2  \n",
              "15254                              77               364                      0  \n",
              "15258                              77               364                     11  \n",
              "\n",
              "[77 rows x 15 columns]"
            ],
            "text/html": [
              "\n",
              "  <div id=\"df-0a990f2c-1474-4f1e-8318-9d704ff2885e\">\n",
              "    <div class=\"colab-df-container\">\n",
              "      <div>\n",
              "<style scoped>\n",
              "    .dataframe tbody tr th:only-of-type {\n",
              "        vertical-align: middle;\n",
              "    }\n",
              "\n",
              "    .dataframe tbody tr th {\n",
              "        vertical-align: top;\n",
              "    }\n",
              "\n",
              "    .dataframe thead th {\n",
              "        text-align: right;\n",
              "    }\n",
              "</style>\n",
              "<table border=\"1\" class=\"dataframe\">\n",
              "  <thead>\n",
              "    <tr style=\"text-align: right;\">\n",
              "      <th></th>\n",
              "      <th>id</th>\n",
              "      <th>name</th>\n",
              "      <th>host_id</th>\n",
              "      <th>host_name</th>\n",
              "      <th>neighbourhood_group</th>\n",
              "      <th>neighbourhood</th>\n",
              "      <th>latitude</th>\n",
              "      <th>longitude</th>\n",
              "      <th>room_type</th>\n",
              "      <th>price</th>\n",
              "      <th>minimum_nights</th>\n",
              "      <th>number_of_reviews</th>\n",
              "      <th>calculated_host_listings_count</th>\n",
              "      <th>availability_365</th>\n",
              "      <th>number_of_reviews_ltm</th>\n",
              "    </tr>\n",
              "  </thead>\n",
              "  <tbody>\n",
              "    <tr>\n",
              "      <th>14662</th>\n",
              "      <td>685218557991874792</td>\n",
              "      <td>Berlin Chausseestr | One-Bedroom Suite</td>\n",
              "      <td>418270816</td>\n",
              "      <td>Limehome</td>\n",
              "      <td>Mitte</td>\n",
              "      <td>Alexanderplatz</td>\n",
              "      <td>52.537746</td>\n",
              "      <td>13.373278</td>\n",
              "      <td>Entire home/apt</td>\n",
              "      <td>159</td>\n",
              "      <td>1</td>\n",
              "      <td>0</td>\n",
              "      <td>77</td>\n",
              "      <td>316</td>\n",
              "      <td>0</td>\n",
              "    </tr>\n",
              "    <tr>\n",
              "      <th>14665</th>\n",
              "      <td>685220462559922676</td>\n",
              "      <td>Berlin Chausseestr | Suite + Sofa Bed + Balcony</td>\n",
              "      <td>418270816</td>\n",
              "      <td>Limehome</td>\n",
              "      <td>Mitte</td>\n",
              "      <td>Alexanderplatz</td>\n",
              "      <td>52.537746</td>\n",
              "      <td>13.373278</td>\n",
              "      <td>Entire home/apt</td>\n",
              "      <td>137</td>\n",
              "      <td>1</td>\n",
              "      <td>1</td>\n",
              "      <td>77</td>\n",
              "      <td>363</td>\n",
              "      <td>1</td>\n",
              "    </tr>\n",
              "    <tr>\n",
              "      <th>14668</th>\n",
              "      <td>685222233587748409</td>\n",
              "      <td>Berlin Chausseestr | Suite + Balcony (LT)</td>\n",
              "      <td>418270816</td>\n",
              "      <td>Limehome</td>\n",
              "      <td>Mitte</td>\n",
              "      <td>Alexanderplatz</td>\n",
              "      <td>52.537746</td>\n",
              "      <td>13.373278</td>\n",
              "      <td>Entire home/apt</td>\n",
              "      <td>137</td>\n",
              "      <td>1</td>\n",
              "      <td>0</td>\n",
              "      <td>77</td>\n",
              "      <td>363</td>\n",
              "      <td>0</td>\n",
              "    </tr>\n",
              "    <tr>\n",
              "      <th>14670</th>\n",
              "      <td>685224054858608898</td>\n",
              "      <td>Berlin Chausseestr | Suite + Sofa Bed</td>\n",
              "      <td>418270816</td>\n",
              "      <td>Limehome</td>\n",
              "      <td>Mitte</td>\n",
              "      <td>Alexanderplatz</td>\n",
              "      <td>52.537746</td>\n",
              "      <td>13.373278</td>\n",
              "      <td>Entire home/apt</td>\n",
              "      <td>129</td>\n",
              "      <td>1</td>\n",
              "      <td>2</td>\n",
              "      <td>77</td>\n",
              "      <td>360</td>\n",
              "      <td>2</td>\n",
              "    </tr>\n",
              "    <tr>\n",
              "      <th>14672</th>\n",
              "      <td>685225880830164394</td>\n",
              "      <td>Berlin Chausseestr | Two-Bedroom Suite</td>\n",
              "      <td>418270816</td>\n",
              "      <td>Limehome</td>\n",
              "      <td>Mitte</td>\n",
              "      <td>Alexanderplatz</td>\n",
              "      <td>52.537746</td>\n",
              "      <td>13.373278</td>\n",
              "      <td>Entire home/apt</td>\n",
              "      <td>173</td>\n",
              "      <td>1</td>\n",
              "      <td>0</td>\n",
              "      <td>77</td>\n",
              "      <td>216</td>\n",
              "      <td>0</td>\n",
              "    </tr>\n",
              "    <tr>\n",
              "      <th>...</th>\n",
              "      <td>...</td>\n",
              "      <td>...</td>\n",
              "      <td>...</td>\n",
              "      <td>...</td>\n",
              "      <td>...</td>\n",
              "      <td>...</td>\n",
              "      <td>...</td>\n",
              "      <td>...</td>\n",
              "      <td>...</td>\n",
              "      <td>...</td>\n",
              "      <td>...</td>\n",
              "      <td>...</td>\n",
              "      <td>...</td>\n",
              "      <td>...</td>\n",
              "      <td>...</td>\n",
              "    </tr>\n",
              "    <tr>\n",
              "      <th>15250</th>\n",
              "      <td>731812301050933853</td>\n",
              "      <td>limehome Berlin Luise-Henriette-Str. | Suite (LT)</td>\n",
              "      <td>418270816</td>\n",
              "      <td>Limehome</td>\n",
              "      <td>Tempelhof - Schöneberg</td>\n",
              "      <td>Tempelhof</td>\n",
              "      <td>52.464195</td>\n",
              "      <td>13.384416</td>\n",
              "      <td>Entire home/apt</td>\n",
              "      <td>76</td>\n",
              "      <td>1</td>\n",
              "      <td>0</td>\n",
              "      <td>77</td>\n",
              "      <td>363</td>\n",
              "      <td>0</td>\n",
              "    </tr>\n",
              "    <tr>\n",
              "      <th>15251</th>\n",
              "      <td>731814415936337787</td>\n",
              "      <td>limehome Berlin Luise-Henriette-Str. | 1-BR Suite</td>\n",
              "      <td>418270816</td>\n",
              "      <td>Limehome</td>\n",
              "      <td>Tempelhof - Schöneberg</td>\n",
              "      <td>Tempelhof</td>\n",
              "      <td>52.464195</td>\n",
              "      <td>13.384416</td>\n",
              "      <td>Entire home/apt</td>\n",
              "      <td>102</td>\n",
              "      <td>1</td>\n",
              "      <td>1</td>\n",
              "      <td>77</td>\n",
              "      <td>327</td>\n",
              "      <td>1</td>\n",
              "    </tr>\n",
              "    <tr>\n",
              "      <th>15253</th>\n",
              "      <td>731816714179145445</td>\n",
              "      <td>limehome Berlin | Economy Single Suite</td>\n",
              "      <td>418270816</td>\n",
              "      <td>Limehome</td>\n",
              "      <td>Tempelhof - Schöneberg</td>\n",
              "      <td>Tempelhof</td>\n",
              "      <td>52.464195</td>\n",
              "      <td>13.384416</td>\n",
              "      <td>Entire home/apt</td>\n",
              "      <td>62</td>\n",
              "      <td>1</td>\n",
              "      <td>2</td>\n",
              "      <td>77</td>\n",
              "      <td>352</td>\n",
              "      <td>2</td>\n",
              "    </tr>\n",
              "    <tr>\n",
              "      <th>15254</th>\n",
              "      <td>731822500093753325</td>\n",
              "      <td>limehome Berlin Luise-Henriette-Str|ComfortSui...</td>\n",
              "      <td>418270816</td>\n",
              "      <td>Limehome</td>\n",
              "      <td>Tempelhof - Schöneberg</td>\n",
              "      <td>Tempelhof</td>\n",
              "      <td>52.464195</td>\n",
              "      <td>13.384416</td>\n",
              "      <td>Entire home/apt</td>\n",
              "      <td>85</td>\n",
              "      <td>1</td>\n",
              "      <td>0</td>\n",
              "      <td>77</td>\n",
              "      <td>364</td>\n",
              "      <td>0</td>\n",
              "    </tr>\n",
              "    <tr>\n",
              "      <th>15258</th>\n",
              "      <td>731825380030233334</td>\n",
              "      <td>limehome Berlin Luise-Henriette-Str. | Suite</td>\n",
              "      <td>418270816</td>\n",
              "      <td>Limehome</td>\n",
              "      <td>Tempelhof - Schöneberg</td>\n",
              "      <td>Tempelhof</td>\n",
              "      <td>52.464195</td>\n",
              "      <td>13.384416</td>\n",
              "      <td>Entire home/apt</td>\n",
              "      <td>76</td>\n",
              "      <td>1</td>\n",
              "      <td>11</td>\n",
              "      <td>77</td>\n",
              "      <td>364</td>\n",
              "      <td>11</td>\n",
              "    </tr>\n",
              "  </tbody>\n",
              "</table>\n",
              "<p>77 rows × 15 columns</p>\n",
              "</div>\n",
              "      <button class=\"colab-df-convert\" onclick=\"convertToInteractive('df-0a990f2c-1474-4f1e-8318-9d704ff2885e')\"\n",
              "              title=\"Convert this dataframe to an interactive table.\"\n",
              "              style=\"display:none;\">\n",
              "        \n",
              "  <svg xmlns=\"http://www.w3.org/2000/svg\" height=\"24px\"viewBox=\"0 0 24 24\"\n",
              "       width=\"24px\">\n",
              "    <path d=\"M0 0h24v24H0V0z\" fill=\"none\"/>\n",
              "    <path d=\"M18.56 5.44l.94 2.06.94-2.06 2.06-.94-2.06-.94-.94-2.06-.94 2.06-2.06.94zm-11 1L8.5 8.5l.94-2.06 2.06-.94-2.06-.94L8.5 2.5l-.94 2.06-2.06.94zm10 10l.94 2.06.94-2.06 2.06-.94-2.06-.94-.94-2.06-.94 2.06-2.06.94z\"/><path d=\"M17.41 7.96l-1.37-1.37c-.4-.4-.92-.59-1.43-.59-.52 0-1.04.2-1.43.59L10.3 9.45l-7.72 7.72c-.78.78-.78 2.05 0 2.83L4 21.41c.39.39.9.59 1.41.59.51 0 1.02-.2 1.41-.59l7.78-7.78 2.81-2.81c.8-.78.8-2.07 0-2.86zM5.41 20L4 18.59l7.72-7.72 1.47 1.35L5.41 20z\"/>\n",
              "  </svg>\n",
              "      </button>\n",
              "      \n",
              "  <style>\n",
              "    .colab-df-container {\n",
              "      display:flex;\n",
              "      flex-wrap:wrap;\n",
              "      gap: 12px;\n",
              "    }\n",
              "\n",
              "    .colab-df-convert {\n",
              "      background-color: #E8F0FE;\n",
              "      border: none;\n",
              "      border-radius: 50%;\n",
              "      cursor: pointer;\n",
              "      display: none;\n",
              "      fill: #1967D2;\n",
              "      height: 32px;\n",
              "      padding: 0 0 0 0;\n",
              "      width: 32px;\n",
              "    }\n",
              "\n",
              "    .colab-df-convert:hover {\n",
              "      background-color: #E2EBFA;\n",
              "      box-shadow: 0px 1px 2px rgba(60, 64, 67, 0.3), 0px 1px 3px 1px rgba(60, 64, 67, 0.15);\n",
              "      fill: #174EA6;\n",
              "    }\n",
              "\n",
              "    [theme=dark] .colab-df-convert {\n",
              "      background-color: #3B4455;\n",
              "      fill: #D2E3FC;\n",
              "    }\n",
              "\n",
              "    [theme=dark] .colab-df-convert:hover {\n",
              "      background-color: #434B5C;\n",
              "      box-shadow: 0px 1px 3px 1px rgba(0, 0, 0, 0.15);\n",
              "      filter: drop-shadow(0px 1px 2px rgba(0, 0, 0, 0.3));\n",
              "      fill: #FFFFFF;\n",
              "    }\n",
              "  </style>\n",
              "\n",
              "      <script>\n",
              "        const buttonEl =\n",
              "          document.querySelector('#df-0a990f2c-1474-4f1e-8318-9d704ff2885e button.colab-df-convert');\n",
              "        buttonEl.style.display =\n",
              "          google.colab.kernel.accessAllowed ? 'block' : 'none';\n",
              "\n",
              "        async function convertToInteractive(key) {\n",
              "          const element = document.querySelector('#df-0a990f2c-1474-4f1e-8318-9d704ff2885e');\n",
              "          const dataTable =\n",
              "            await google.colab.kernel.invokeFunction('convertToInteractive',\n",
              "                                                     [key], {});\n",
              "          if (!dataTable) return;\n",
              "\n",
              "          const docLinkHtml = 'Like what you see? Visit the ' +\n",
              "            '<a target=\"_blank\" href=https://colab.research.google.com/notebooks/data_table.ipynb>data table notebook</a>'\n",
              "            + ' to learn more about interactive tables.';\n",
              "          element.innerHTML = '';\n",
              "          dataTable['output_type'] = 'display_data';\n",
              "          await google.colab.output.renderOutput(dataTable, element);\n",
              "          const docLink = document.createElement('div');\n",
              "          docLink.innerHTML = docLinkHtml;\n",
              "          element.appendChild(docLink);\n",
              "        }\n",
              "      </script>\n",
              "    </div>\n",
              "  </div>\n",
              "  "
            ]
          },
          "metadata": {},
          "execution_count": 27
        }
      ]
    },
    {
      "cell_type": "markdown",
      "source": [
        "Looking at the table above, we discovered that the top host is named **Limehome**. It offers many rooms at different neighborhoods, a diversity of `price` and a `minimum_nights` starting at 1.\n",
        "\n",
        "Let's search in the original dataset (prior to cleaning) to see if exists another top host in Berlin.\n"
      ],
      "metadata": {
        "id": "Iy2zRqCOet50"
      }
    },
    {
      "cell_type": "code",
      "source": [
        "#checking the max listings count for a unique host\n",
        "df['calculated_host_listings_count'].max()"
      ],
      "metadata": {
        "colab": {
          "base_uri": "https://localhost:8080/"
        },
        "id": "tq6kd5jafRka",
        "outputId": "166ac9ac-b81a-4838-c8ee-18c3a59e75bc"
      },
      "execution_count": 28,
      "outputs": [
        {
          "output_type": "execute_result",
          "data": {
            "text/plain": [
              "103"
            ]
          },
          "metadata": {},
          "execution_count": 28
        }
      ]
    },
    {
      "cell_type": "markdown",
      "source": [
        "Yes, in fact there is a superior **top host** with **103 listings**. Let's find out its name and the possible reason it was cut and not included in the clean dataframe."
      ],
      "metadata": {
        "id": "2R0cdcpDlV7U"
      }
    },
    {
      "cell_type": "code",
      "source": [
        "#check the top host's listings in the dataset\n",
        "df.loc[df['calculated_host_listings_count'] == 103]"
      ],
      "metadata": {
        "colab": {
          "base_uri": "https://localhost:8080/",
          "height": 870
        },
        "id": "sGdDEumlj8VN",
        "outputId": "01c48860-11a9-403e-f490-556d4f24c941"
      },
      "execution_count": 29,
      "outputs": [
        {
          "output_type": "execute_result",
          "data": {
            "text/plain": [
              "                       id                                             name  \\\n",
              "13567            54025960     Charlottenburg 1BR w/ Gym, nr Kurfürstendamm   \n",
              "13571            54025990  Charlottenburg Studio w/ Gym, nr Kurfürstendamm   \n",
              "13573            54026053  Charlottenburg Studio w/ Gym, nr Kurfürstendamm   \n",
              "13574            54026099  Charlottenburg Studio w/ Gym, nr Kurfürstendamm   \n",
              "13764  563586129185624593    Charlottenburg 1BR nr KaDeWe & Kurfürstendamm   \n",
              "...                   ...                                              ...   \n",
              "15574  772344916244177478                               Mitte 1br nr Spree   \n",
              "15649  775110919883271295             Charlottenburg 2br nr Kurfürstendamm   \n",
              "15685  776534801896521958           Friedrichshain 2br at Boxhagener Platz   \n",
              "15697  781637919195072505                               Mitte 2br nr Spree   \n",
              "15698  781638277920289319                               Mitte 2br nr Spree   \n",
              "\n",
              "         host_id   host_name       neighbourhood_group  \\\n",
              "13567  434485440  Blueground      Charlottenburg-Wilm.   \n",
              "13571  434485440  Blueground      Charlottenburg-Wilm.   \n",
              "13573  434485440  Blueground      Charlottenburg-Wilm.   \n",
              "13574  434485440  Blueground      Charlottenburg-Wilm.   \n",
              "13764  434485440  Blueground      Charlottenburg-Wilm.   \n",
              "...          ...         ...                       ...   \n",
              "15574  434485440  Blueground                     Mitte   \n",
              "15649  434485440  Blueground      Charlottenburg-Wilm.   \n",
              "15685  434485440  Blueground  Friedrichshain-Kreuzberg   \n",
              "15697  434485440  Blueground                     Mitte   \n",
              "15698  434485440  Blueground                     Mitte   \n",
              "\n",
              "                  neighbourhood   latitude  longitude        room_type  price  \\\n",
              "13567            Kurfürstendamm  52.500575  13.329638  Entire home/apt    143   \n",
              "13571            Kurfürstendamm  52.500575  13.329638  Entire home/apt    132   \n",
              "13573            Kurfürstendamm  52.500575  13.329638  Entire home/apt    120   \n",
              "13574            Kurfürstendamm  52.500575  13.329638  Entire home/apt     96   \n",
              "13764       Düsseldorfer Straße  52.497317  13.332222  Entire home/apt    104   \n",
              "...                         ...        ...        ...              ...    ...   \n",
              "15574               Moabit West  52.525117  13.332493  Entire home/apt    109   \n",
              "15649                 Grunewald  52.482828  13.290472  Entire home/apt     85   \n",
              "15685  Frankfurter Allee Süd FK  52.513690  13.456341  Entire home/apt    101   \n",
              "15697               Moabit West  52.525117  13.332493  Entire home/apt     88   \n",
              "15698               Moabit West  52.525117  13.332493  Entire home/apt    115   \n",
              "\n",
              "       minimum_nights  number_of_reviews  calculated_host_listings_count  \\\n",
              "13567              90                  0                             103   \n",
              "13571              90                  0                             103   \n",
              "13573              90                  0                             103   \n",
              "13574              90                  0                             103   \n",
              "13764              90                  0                             103   \n",
              "...               ...                ...                             ...   \n",
              "15574              90                  0                             103   \n",
              "15649              90                  0                             103   \n",
              "15685              90                  0                             103   \n",
              "15697              90                  0                             103   \n",
              "15698              90                  0                             103   \n",
              "\n",
              "       availability_365  number_of_reviews_ltm  \n",
              "13567                51                      0  \n",
              "13571               141                      0  \n",
              "13573               110                      0  \n",
              "13574               320                      0  \n",
              "13764               258                      0  \n",
              "...                 ...                    ...  \n",
              "15574               268                      0  \n",
              "15649               365                      0  \n",
              "15685               365                      0  \n",
              "15697               365                      0  \n",
              "15698               183                      0  \n",
              "\n",
              "[103 rows x 15 columns]"
            ],
            "text/html": [
              "\n",
              "  <div id=\"df-02418963-8835-4d07-9b2b-662855f07b7e\">\n",
              "    <div class=\"colab-df-container\">\n",
              "      <div>\n",
              "<style scoped>\n",
              "    .dataframe tbody tr th:only-of-type {\n",
              "        vertical-align: middle;\n",
              "    }\n",
              "\n",
              "    .dataframe tbody tr th {\n",
              "        vertical-align: top;\n",
              "    }\n",
              "\n",
              "    .dataframe thead th {\n",
              "        text-align: right;\n",
              "    }\n",
              "</style>\n",
              "<table border=\"1\" class=\"dataframe\">\n",
              "  <thead>\n",
              "    <tr style=\"text-align: right;\">\n",
              "      <th></th>\n",
              "      <th>id</th>\n",
              "      <th>name</th>\n",
              "      <th>host_id</th>\n",
              "      <th>host_name</th>\n",
              "      <th>neighbourhood_group</th>\n",
              "      <th>neighbourhood</th>\n",
              "      <th>latitude</th>\n",
              "      <th>longitude</th>\n",
              "      <th>room_type</th>\n",
              "      <th>price</th>\n",
              "      <th>minimum_nights</th>\n",
              "      <th>number_of_reviews</th>\n",
              "      <th>calculated_host_listings_count</th>\n",
              "      <th>availability_365</th>\n",
              "      <th>number_of_reviews_ltm</th>\n",
              "    </tr>\n",
              "  </thead>\n",
              "  <tbody>\n",
              "    <tr>\n",
              "      <th>13567</th>\n",
              "      <td>54025960</td>\n",
              "      <td>Charlottenburg 1BR w/ Gym, nr Kurfürstendamm</td>\n",
              "      <td>434485440</td>\n",
              "      <td>Blueground</td>\n",
              "      <td>Charlottenburg-Wilm.</td>\n",
              "      <td>Kurfürstendamm</td>\n",
              "      <td>52.500575</td>\n",
              "      <td>13.329638</td>\n",
              "      <td>Entire home/apt</td>\n",
              "      <td>143</td>\n",
              "      <td>90</td>\n",
              "      <td>0</td>\n",
              "      <td>103</td>\n",
              "      <td>51</td>\n",
              "      <td>0</td>\n",
              "    </tr>\n",
              "    <tr>\n",
              "      <th>13571</th>\n",
              "      <td>54025990</td>\n",
              "      <td>Charlottenburg Studio w/ Gym, nr Kurfürstendamm</td>\n",
              "      <td>434485440</td>\n",
              "      <td>Blueground</td>\n",
              "      <td>Charlottenburg-Wilm.</td>\n",
              "      <td>Kurfürstendamm</td>\n",
              "      <td>52.500575</td>\n",
              "      <td>13.329638</td>\n",
              "      <td>Entire home/apt</td>\n",
              "      <td>132</td>\n",
              "      <td>90</td>\n",
              "      <td>0</td>\n",
              "      <td>103</td>\n",
              "      <td>141</td>\n",
              "      <td>0</td>\n",
              "    </tr>\n",
              "    <tr>\n",
              "      <th>13573</th>\n",
              "      <td>54026053</td>\n",
              "      <td>Charlottenburg Studio w/ Gym, nr Kurfürstendamm</td>\n",
              "      <td>434485440</td>\n",
              "      <td>Blueground</td>\n",
              "      <td>Charlottenburg-Wilm.</td>\n",
              "      <td>Kurfürstendamm</td>\n",
              "      <td>52.500575</td>\n",
              "      <td>13.329638</td>\n",
              "      <td>Entire home/apt</td>\n",
              "      <td>120</td>\n",
              "      <td>90</td>\n",
              "      <td>0</td>\n",
              "      <td>103</td>\n",
              "      <td>110</td>\n",
              "      <td>0</td>\n",
              "    </tr>\n",
              "    <tr>\n",
              "      <th>13574</th>\n",
              "      <td>54026099</td>\n",
              "      <td>Charlottenburg Studio w/ Gym, nr Kurfürstendamm</td>\n",
              "      <td>434485440</td>\n",
              "      <td>Blueground</td>\n",
              "      <td>Charlottenburg-Wilm.</td>\n",
              "      <td>Kurfürstendamm</td>\n",
              "      <td>52.500575</td>\n",
              "      <td>13.329638</td>\n",
              "      <td>Entire home/apt</td>\n",
              "      <td>96</td>\n",
              "      <td>90</td>\n",
              "      <td>0</td>\n",
              "      <td>103</td>\n",
              "      <td>320</td>\n",
              "      <td>0</td>\n",
              "    </tr>\n",
              "    <tr>\n",
              "      <th>13764</th>\n",
              "      <td>563586129185624593</td>\n",
              "      <td>Charlottenburg 1BR nr KaDeWe &amp; Kurfürstendamm</td>\n",
              "      <td>434485440</td>\n",
              "      <td>Blueground</td>\n",
              "      <td>Charlottenburg-Wilm.</td>\n",
              "      <td>Düsseldorfer Straße</td>\n",
              "      <td>52.497317</td>\n",
              "      <td>13.332222</td>\n",
              "      <td>Entire home/apt</td>\n",
              "      <td>104</td>\n",
              "      <td>90</td>\n",
              "      <td>0</td>\n",
              "      <td>103</td>\n",
              "      <td>258</td>\n",
              "      <td>0</td>\n",
              "    </tr>\n",
              "    <tr>\n",
              "      <th>...</th>\n",
              "      <td>...</td>\n",
              "      <td>...</td>\n",
              "      <td>...</td>\n",
              "      <td>...</td>\n",
              "      <td>...</td>\n",
              "      <td>...</td>\n",
              "      <td>...</td>\n",
              "      <td>...</td>\n",
              "      <td>...</td>\n",
              "      <td>...</td>\n",
              "      <td>...</td>\n",
              "      <td>...</td>\n",
              "      <td>...</td>\n",
              "      <td>...</td>\n",
              "      <td>...</td>\n",
              "    </tr>\n",
              "    <tr>\n",
              "      <th>15574</th>\n",
              "      <td>772344916244177478</td>\n",
              "      <td>Mitte 1br nr Spree</td>\n",
              "      <td>434485440</td>\n",
              "      <td>Blueground</td>\n",
              "      <td>Mitte</td>\n",
              "      <td>Moabit West</td>\n",
              "      <td>52.525117</td>\n",
              "      <td>13.332493</td>\n",
              "      <td>Entire home/apt</td>\n",
              "      <td>109</td>\n",
              "      <td>90</td>\n",
              "      <td>0</td>\n",
              "      <td>103</td>\n",
              "      <td>268</td>\n",
              "      <td>0</td>\n",
              "    </tr>\n",
              "    <tr>\n",
              "      <th>15649</th>\n",
              "      <td>775110919883271295</td>\n",
              "      <td>Charlottenburg 2br nr Kurfürstendamm</td>\n",
              "      <td>434485440</td>\n",
              "      <td>Blueground</td>\n",
              "      <td>Charlottenburg-Wilm.</td>\n",
              "      <td>Grunewald</td>\n",
              "      <td>52.482828</td>\n",
              "      <td>13.290472</td>\n",
              "      <td>Entire home/apt</td>\n",
              "      <td>85</td>\n",
              "      <td>90</td>\n",
              "      <td>0</td>\n",
              "      <td>103</td>\n",
              "      <td>365</td>\n",
              "      <td>0</td>\n",
              "    </tr>\n",
              "    <tr>\n",
              "      <th>15685</th>\n",
              "      <td>776534801896521958</td>\n",
              "      <td>Friedrichshain 2br at Boxhagener Platz</td>\n",
              "      <td>434485440</td>\n",
              "      <td>Blueground</td>\n",
              "      <td>Friedrichshain-Kreuzberg</td>\n",
              "      <td>Frankfurter Allee Süd FK</td>\n",
              "      <td>52.513690</td>\n",
              "      <td>13.456341</td>\n",
              "      <td>Entire home/apt</td>\n",
              "      <td>101</td>\n",
              "      <td>90</td>\n",
              "      <td>0</td>\n",
              "      <td>103</td>\n",
              "      <td>365</td>\n",
              "      <td>0</td>\n",
              "    </tr>\n",
              "    <tr>\n",
              "      <th>15697</th>\n",
              "      <td>781637919195072505</td>\n",
              "      <td>Mitte 2br nr Spree</td>\n",
              "      <td>434485440</td>\n",
              "      <td>Blueground</td>\n",
              "      <td>Mitte</td>\n",
              "      <td>Moabit West</td>\n",
              "      <td>52.525117</td>\n",
              "      <td>13.332493</td>\n",
              "      <td>Entire home/apt</td>\n",
              "      <td>88</td>\n",
              "      <td>90</td>\n",
              "      <td>0</td>\n",
              "      <td>103</td>\n",
              "      <td>365</td>\n",
              "      <td>0</td>\n",
              "    </tr>\n",
              "    <tr>\n",
              "      <th>15698</th>\n",
              "      <td>781638277920289319</td>\n",
              "      <td>Mitte 2br nr Spree</td>\n",
              "      <td>434485440</td>\n",
              "      <td>Blueground</td>\n",
              "      <td>Mitte</td>\n",
              "      <td>Moabit West</td>\n",
              "      <td>52.525117</td>\n",
              "      <td>13.332493</td>\n",
              "      <td>Entire home/apt</td>\n",
              "      <td>115</td>\n",
              "      <td>90</td>\n",
              "      <td>0</td>\n",
              "      <td>103</td>\n",
              "      <td>183</td>\n",
              "      <td>0</td>\n",
              "    </tr>\n",
              "  </tbody>\n",
              "</table>\n",
              "<p>103 rows × 15 columns</p>\n",
              "</div>\n",
              "      <button class=\"colab-df-convert\" onclick=\"convertToInteractive('df-02418963-8835-4d07-9b2b-662855f07b7e')\"\n",
              "              title=\"Convert this dataframe to an interactive table.\"\n",
              "              style=\"display:none;\">\n",
              "        \n",
              "  <svg xmlns=\"http://www.w3.org/2000/svg\" height=\"24px\"viewBox=\"0 0 24 24\"\n",
              "       width=\"24px\">\n",
              "    <path d=\"M0 0h24v24H0V0z\" fill=\"none\"/>\n",
              "    <path d=\"M18.56 5.44l.94 2.06.94-2.06 2.06-.94-2.06-.94-.94-2.06-.94 2.06-2.06.94zm-11 1L8.5 8.5l.94-2.06 2.06-.94-2.06-.94L8.5 2.5l-.94 2.06-2.06.94zm10 10l.94 2.06.94-2.06 2.06-.94-2.06-.94-.94-2.06-.94 2.06-2.06.94z\"/><path d=\"M17.41 7.96l-1.37-1.37c-.4-.4-.92-.59-1.43-.59-.52 0-1.04.2-1.43.59L10.3 9.45l-7.72 7.72c-.78.78-.78 2.05 0 2.83L4 21.41c.39.39.9.59 1.41.59.51 0 1.02-.2 1.41-.59l7.78-7.78 2.81-2.81c.8-.78.8-2.07 0-2.86zM5.41 20L4 18.59l7.72-7.72 1.47 1.35L5.41 20z\"/>\n",
              "  </svg>\n",
              "      </button>\n",
              "      \n",
              "  <style>\n",
              "    .colab-df-container {\n",
              "      display:flex;\n",
              "      flex-wrap:wrap;\n",
              "      gap: 12px;\n",
              "    }\n",
              "\n",
              "    .colab-df-convert {\n",
              "      background-color: #E8F0FE;\n",
              "      border: none;\n",
              "      border-radius: 50%;\n",
              "      cursor: pointer;\n",
              "      display: none;\n",
              "      fill: #1967D2;\n",
              "      height: 32px;\n",
              "      padding: 0 0 0 0;\n",
              "      width: 32px;\n",
              "    }\n",
              "\n",
              "    .colab-df-convert:hover {\n",
              "      background-color: #E2EBFA;\n",
              "      box-shadow: 0px 1px 2px rgba(60, 64, 67, 0.3), 0px 1px 3px 1px rgba(60, 64, 67, 0.15);\n",
              "      fill: #174EA6;\n",
              "    }\n",
              "\n",
              "    [theme=dark] .colab-df-convert {\n",
              "      background-color: #3B4455;\n",
              "      fill: #D2E3FC;\n",
              "    }\n",
              "\n",
              "    [theme=dark] .colab-df-convert:hover {\n",
              "      background-color: #434B5C;\n",
              "      box-shadow: 0px 1px 3px 1px rgba(0, 0, 0, 0.15);\n",
              "      filter: drop-shadow(0px 1px 2px rgba(0, 0, 0, 0.3));\n",
              "      fill: #FFFFFF;\n",
              "    }\n",
              "  </style>\n",
              "\n",
              "      <script>\n",
              "        const buttonEl =\n",
              "          document.querySelector('#df-02418963-8835-4d07-9b2b-662855f07b7e button.colab-df-convert');\n",
              "        buttonEl.style.display =\n",
              "          google.colab.kernel.accessAllowed ? 'block' : 'none';\n",
              "\n",
              "        async function convertToInteractive(key) {\n",
              "          const element = document.querySelector('#df-02418963-8835-4d07-9b2b-662855f07b7e');\n",
              "          const dataTable =\n",
              "            await google.colab.kernel.invokeFunction('convertToInteractive',\n",
              "                                                     [key], {});\n",
              "          if (!dataTable) return;\n",
              "\n",
              "          const docLinkHtml = 'Like what you see? Visit the ' +\n",
              "            '<a target=\"_blank\" href=https://colab.research.google.com/notebooks/data_table.ipynb>data table notebook</a>'\n",
              "            + ' to learn more about interactive tables.';\n",
              "          element.innerHTML = '';\n",
              "          dataTable['output_type'] = 'display_data';\n",
              "          await google.colab.output.renderOutput(dataTable, element);\n",
              "          const docLink = document.createElement('div');\n",
              "          docLink.innerHTML = docLinkHtml;\n",
              "          element.appendChild(docLink);\n",
              "        }\n",
              "      </script>\n",
              "    </div>\n",
              "  </div>\n",
              "  "
            ]
          },
          "metadata": {},
          "execution_count": 29
        }
      ]
    },
    {
      "cell_type": "markdown",
      "source": [
        "The **top host** in Berlin is registered as **Blueground** (host name), and it was considered an outlier because it rentals only for a **90 minimum nights stay**. Much superior of the 9.5 nights max limit estabilished."
      ],
      "metadata": {
        "id": "lAjsvCsrne6Z"
      }
    },
    {
      "cell_type": "markdown",
      "metadata": {
        "id": "MFa5NbnLJMcd"
      },
      "source": [
        "####**4.4- Rental Pricing**\n",
        "\n",
        "Which are the most expensive and the cheapest locations in the dataset?\n",
        "\n",
        "First let's build a list to discover the average rental price per neighborhood."
      ]
    },
    {
      "cell_type": "code",
      "metadata": {
        "id": "MD_xa143JZpi",
        "colab": {
          "base_uri": "https://localhost:8080/"
        },
        "outputId": "61643ce5-44d8-4e17-b70b-3cb79f11271d"
      },
      "source": [
        "#check average rental prices by neighbourhood\n",
        "print(\"\\n \\033[1m The most expensive locations:\\033[0m\")\n",
        "gbh = df_clean.groupby(['neighbourhood_group']).price.mean().sort_values(ascending=False)[:8]\n",
        "print(gbh)\n",
        "print(\"\\n \\033[1m The cheapest locations:\\033[0m\")\n",
        "gbl = df_clean.groupby(['neighbourhood_group']).price.mean().sort_values(ascending=True)[:8]\n",
        "print(gbl)"
      ],
      "execution_count": 30,
      "outputs": [
        {
          "output_type": "stream",
          "name": "stdout",
          "text": [
            "\n",
            " \u001b[1m The most expensive locations:\u001b[0m\n",
            "neighbourhood_group\n",
            "Charlottenburg-Wilm.        80.799559\n",
            "Pankow                      79.270557\n",
            "Mitte                       78.902743\n",
            "Treptow - Köpenick          74.294258\n",
            "Tempelhof - Schöneberg      73.676399\n",
            "Steglitz - Zehlendorf       72.620818\n",
            "Friedrichshain-Kreuzberg    72.615196\n",
            "Spandau                     71.291667\n",
            "Name: price, dtype: float64\n",
            "\n",
            " \u001b[1m The cheapest locations:\u001b[0m\n",
            "neighbourhood_group\n",
            "Neukölln                    62.190768\n",
            "Reinickendorf               62.264865\n",
            "Lichtenberg                 63.630208\n",
            "Marzahn - Hellersdorf       69.385542\n",
            "Spandau                     71.291667\n",
            "Friedrichshain-Kreuzberg    72.615196\n",
            "Steglitz - Zehlendorf       72.620818\n",
            "Tempelhof - Schöneberg      73.676399\n",
            "Name: price, dtype: float64\n"
          ]
        }
      ]
    },
    {
      "cell_type": "markdown",
      "source": [
        "**Visualizing neighbourhood rental pricing on a violin plot:**.\n",
        "\n",
        "The violin plot showcases the listings density and price distribution by neighbourhood."
      ],
      "metadata": {
        "id": "ZxPDDlUsCMb3"
      }
    },
    {
      "cell_type": "code",
      "source": [
        "# define the figure size\n",
        "sns.set(rc={'figure.figsize':(30,8)})\n",
        "\n",
        "##using violinplot to display density and distribution of prices\n",
        "viz = sns.violinplot(data = df_clean, x = 'neighbourhood_group', y = 'price', width = 0.8, inner='quartiles', scale='count', vert=True);\n",
        "sns.set(font_scale=1.6)\n",
        "viz.set_title('Density and distribution of prices for each neighbourhood_group');"
      ],
      "metadata": {
        "colab": {
          "base_uri": "https://localhost:8080/",
          "height": 523
        },
        "id": "QEjewlrB34kc",
        "outputId": "70b9ae1e-f4b0-4ba4-b40f-bbfcbaf9aead"
      },
      "execution_count": 96,
      "outputs": [
        {
          "output_type": "display_data",
          "data": {
            "text/plain": [
              "<Figure size 2160x576 with 1 Axes>"
            ],
            "image/png": "[encoded data removed]"
          },
          "metadata": {}
        }
      ]
    },
    {
      "cell_type": "markdown",
      "source": [
        "Cool, now we have a clearer picture of the profile of listings in Berlin's neighborhoods.\n",
        "\n",
        "The width of each violin is scaled by the number of observations for it compared to the others. The **dotted lines** represent the **IQR quartiles** we estabilished earlier. \n",
        "\n",
        "Notice that the **most expensive locations** are positively correlated to the most dense areas. The most effervescent places and popular tourist destinations like **Charlottenburg-Wilmersdorf** and **Mitte**, stand out over the others. \n",
        "\n",
        "Prices can also be higher in some quiet and peaceful locations, far from the city center and usually surrounded by natural beauty, like in Müggelheim (Treptow - Köpenick).\n",
        "\n",
        "The **cheapest locations** are on the outskirts of Berlin, both east and west, like in **Marzahn - Hellersdorf** and **Steglitz - Zehlendorf**. "
      ],
      "metadata": {
        "id": "pBwCM4URA1gQ"
      }
    },
    {
      "cell_type": "markdown",
      "source": [
        "\n",
        "###**5 -Mapping Berlin Airbnb Listings**\n",
        "\n",
        "A georeferenced scatter plot of the Berlin listings broken down by price."
      ],
      "metadata": {
        "id": "iCK4Yk9ME_kZ"
      }
    },
    {
      "cell_type": "code",
      "metadata": {
        "id": "UxVJqJ_3W59I",
        "colab": {
          "base_uri": "https://localhost:8080/",
          "height": 466
        },
        "outputId": "d9aaf5ef-8e6d-447b-bf9c-8cde326abc7d"
      },
      "source": [
        "# display a scatter plot\n",
        "df_clean.plot(kind='scatter', x='longitude', y='latitude', label='Berlin Airbnb Listings', alpha=0.4, s=8, c='price', cmap=plt.get_cmap('jet'), figsize=(12,8));\n",
        "plt.show()"
      ],
      "execution_count": 32,
      "outputs": [
        {
          "output_type": "display_data",
          "data": {
            "text/plain": [
              "<Figure size 864x576 with 2 Axes>"
            ],
            "image/png": "[encoded data removed]"
          },
          "metadata": {}
        }
      ]
    },
    {
      "cell_type": "code",
      "source": [],
      "metadata": {
        "id": "_oc1om463viK"
      },
      "execution_count": 32,
      "outputs": []
    },
    {
      "cell_type": "markdown",
      "metadata": {
        "id": "GkvAg623RjoR"
      },
      "source": [
        "#**Conclusions**\n"
      ]
    },
    {
      "cell_type": "markdown",
      "metadata": {
        "id": "rbZ3Hsy9Ypw8"
      },
      "source": [
        "This project allowed us to compile statistics and information about the Airbnb profile in Berlin from raw data, giving us a big picture view of it. \n",
        "\n",
        "Getting to know these nuances closely brings a series of advantages. For example, allowing us to make better decisions when building smart cities.\n",
        "\n",
        "From the data we can build a substrate that can become the foundation of many public policies.\n",
        "\n",
        "In this regard, it is worth mentioning that Berlin is one of the most expensive cities for rental housing in Europe, with a 40% increase in prices for one-bedroom apartments.\n",
        "\n",
        "The lack of available and accessible housing has led to a housing crisis. Some eople are revamping existing properties and protecting the housing stock from being used for the tourist rental market.\n",
        "\n",
        "This study showed that rental companies like Blueground and Limehome take considerable advantage of the Airbnb service as well, figuring as top hosts.\n",
        "\n",
        "Previously, we saw that in Berlin, specific rentals require specific licenses. It is one way for the government to regulate and protect the residential function of properties but a percentage of 59.4% of the listings in Berlin are missing data about license. \n",
        "\n",
        "It means, at least, that there is a shadow hanging over these accommodations that needs to be clarified.\n",
        "\n",
        "Overall, through questions and answers, we obtained some interesting insights and explained each step of the process \n",
        "\n",
        "Note that this work is just an initial exploratory approach. It should be remembered that this dataset is a summarized version. The complete version of the dataset with 106 attributes is available at Inside Airbnb website, to meet more complex analyses. \n",
        "\n",
        "\n",
        "\n"
      ]
    }
  ]
}
